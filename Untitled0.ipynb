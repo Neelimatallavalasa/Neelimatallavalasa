{
  "nbformat": 4,
  "nbformat_minor": 0,
  "metadata": {
    "colab": {
      "name": "Untitled0.ipynb",
      "provenance": [],
      "authorship_tag": "ABX9TyMIj67i1DIUDzzVWXgUF6Xy",
      "include_colab_link": true
    },
    "kernelspec": {
      "name": "python3",
      "display_name": "Python 3"
    },
    "language_info": {
      "name": "python"
    }
  },
  "cells": [
    {
      "cell_type": "markdown",
      "metadata": {
        "id": "view-in-github",
        "colab_type": "text"
      },
      "source": [
        "<a href=\"https://colab.research.google.com/github/Neelimatallavalasa/Neelimatallavalasa/blob/main/Untitled0.ipynb\" target=\"_parent\"><img src=\"https://colab.research.google.com/assets/colab-badge.svg\" alt=\"Open In Colab\"/></a>"
      ]
    },
    {
      "cell_type": "code",
      "metadata": {
        "id": "iZd8fTvLVuCb"
      },
      "source": [
        ""
      ],
      "execution_count": null,
      "outputs": []
    },
    {
      "cell_type": "markdown",
      "metadata": {
        "id": "dYgJKBuIVwoD"
      },
      "source": [
        "Exercise-1\n",
        "a) Running instructions in interactive interpreter and a python script"
      ]
    },
    {
      "cell_type": "code",
      "metadata": {
        "colab": {
          "base_uri": "https://localhost:8080/"
        },
        "id": "M5kHuCzPPgTb",
        "outputId": "e9b36084-d117-4114-8ade-33e622e14fef"
      },
      "source": [
        "print (\"welcome to python\")"
      ],
      "execution_count": null,
      "outputs": [
        {
          "output_type": "stream",
          "text": [
            "welcome to python\n"
          ],
          "name": "stdout"
        }
      ]
    },
    {
      "cell_type": "markdown",
      "metadata": {
        "id": "He3Z66LOa1uW"
      },
      "source": [
        "1b) write a program to purposefully raise indentation error and correct it"
      ]
    },
    {
      "cell_type": "code",
      "metadata": {
        "colab": {
          "base_uri": "https://localhost:8080/",
          "height": 163
        },
        "id": "KR8abcT1brvW",
        "outputId": "155a3a06-007e-443b-cde0-7a5121ed3334"
      },
      "source": [
        "#Error code\n",
        "if True:\n",
        "print(\"True\") \n",
        "else:\n",
        "  print(\"False\")"
      ],
      "execution_count": null,
      "outputs": [
        {
          "output_type": "error",
          "ename": "IndentationError",
          "evalue": "ignored",
          "traceback": [
            "\u001b[0;36m  File \u001b[0;32m\"<ipython-input-20-a9b260d74e44>\"\u001b[0;36m, line \u001b[0;32m3\u001b[0m\n\u001b[0;31m    print(\"True\")\u001b[0m\n\u001b[0m        ^\u001b[0m\n\u001b[0;31mIndentationError\u001b[0m\u001b[0;31m:\u001b[0m expected an indented block\n"
          ]
        }
      ]
    },
    {
      "cell_type": "code",
      "metadata": {
        "colab": {
          "base_uri": "https://localhost:8080/"
        },
        "id": "2DL_xKpqcQ6u",
        "outputId": "8fbbba71-e7e9-4419-acfe-a1eb6737508e"
      },
      "source": [
        "#corrected code\n",
        "if True:\n",
        "   print(\"True\") \n",
        "else:\n",
        "   print(\"False\")"
      ],
      "execution_count": null,
      "outputs": [
        {
          "output_type": "stream",
          "text": [
            "True\n"
          ],
          "name": "stdout"
        }
      ]
    },
    {
      "cell_type": "code",
      "metadata": {
        "colab": {
          "base_uri": "https://localhost:8080/",
          "height": 163
        },
        "id": "khPF9gW7ceir",
        "outputId": "3fbd3b35-e94d-40e9-ad92-bca9a3af4e2f"
      },
      "source": [
        "#Error code\n",
        "if True:\n",
        "   print(\"True 1\") \n",
        "     print(\"True 2\") \n",
        "else:\n",
        "   print(\"False\")"
      ],
      "execution_count": null,
      "outputs": [
        {
          "output_type": "error",
          "ename": "IndentationError",
          "evalue": "ignored",
          "traceback": [
            "\u001b[0;36m  File \u001b[0;32m\"<ipython-input-22-6679a0f77427>\"\u001b[0;36m, line \u001b[0;32m4\u001b[0m\n\u001b[0;31m    print(\"True 2\")\u001b[0m\n\u001b[0m    ^\u001b[0m\n\u001b[0;31mIndentationError\u001b[0m\u001b[0;31m:\u001b[0m unexpected indent\n"
          ]
        }
      ]
    },
    {
      "cell_type": "code",
      "metadata": {
        "colab": {
          "base_uri": "https://localhost:8080/"
        },
        "id": "40DpUydCc8WQ",
        "outputId": "15393a20-9b10-4d1c-e90d-b28f89619b1f"
      },
      "source": [
        "#corrected code\n",
        "if True:\n",
        "   print(\"True 1\") \n",
        "   print(\"True 2\") \n",
        "else:\n",
        "   print(\"False\")"
      ],
      "execution_count": null,
      "outputs": [
        {
          "output_type": "stream",
          "text": [
            "True 1\n",
            "True 2\n"
          ],
          "name": "stdout"
        }
      ]
    },
    {
      "cell_type": "markdown",
      "metadata": {
        "id": "b-5e3vQvRP6S"
      },
      "source": [
        " Exercise-2\n",
        "Write a program to compute distance between two points taking from input from user"
      ]
    },
    {
      "cell_type": "code",
      "metadata": {
        "colab": {
          "base_uri": "https://localhost:8080/"
        },
        "id": "vV5EnTI1RkB4",
        "outputId": "3465a780-924c-4ebb-9621-0bfe1dc62e43"
      },
      "source": [
        "x1=int(input(\"Enter x coordinate of point1:\"))\n",
        "y1=int(input(\"Enter y coordinate of point1:\"))\n",
        "x2=int(input(\"Enter y coordinate of point2:\"))\n",
        "y2=int(input(\"Enter y coordinate of point2:\"))\n",
        "d=(x2-x1)**2 +(y2-y1)**2\n",
        "d=d**(1/2)\n",
        "print(d)"
      ],
      "execution_count": null,
      "outputs": [
        {
          "output_type": "stream",
          "text": [
            "Enter x coordinate of point1:2\n",
            "Enter y coordinate of point1:5\n",
            "Enter y coordinate of point2:3\n",
            "Enter y coordinate of point2:6\n",
            "1.4142135623730951\n"
          ],
          "name": "stdout"
        }
      ]
    },
    {
      "cell_type": "code",
      "metadata": {
        "id": "8ULOhsUXUxuv"
      },
      "source": [
        ""
      ],
      "execution_count": null,
      "outputs": []
    },
    {
      "cell_type": "markdown",
      "metadata": {
        "id": "qUGVLbUoVcwn"
      },
      "source": [
        " B) write a program add.py that takes two numbers as command line argument and prints it's sum"
      ]
    },
    {
      "cell_type": "code",
      "metadata": {
        "id": "tKtfy_Y3WkWE"
      },
      "source": [
        "import sys\n",
        "a=int(sys.argv[1]) \n",
        "b=int(sys.argv[2]) \n",
        " \n",
        "sum=a+b\n",
        "print(\"Sum of two numbers is:\",sum)"
      ],
      "execution_count": null,
      "outputs": []
    },
    {
      "cell_type": "code",
      "metadata": {
        "id": "n395tCntexRs"
      },
      "source": [
        ""
      ],
      "execution_count": null,
      "outputs": []
    },
    {
      "cell_type": "markdown",
      "metadata": {
        "id": "C812ex29eylc"
      },
      "source": [
        " Exercise 3a) \n",
        "Write a program for checking weather the given number is an even number or not"
      ]
    },
    {
      "cell_type": "code",
      "metadata": {
        "colab": {
          "base_uri": "https://localhost:8080/"
        },
        "id": "i-q_bYiIgLe2",
        "outputId": "fc8da220-74ae-49d8-e801-ad20197e5273"
      },
      "source": [
        "n=int(input(\"Enter a number:\"))\n",
        "if (n%2==0):\n",
        "  print(n,\"is an even number\")\n",
        "else:\n",
        "  print(n,\"is an odd number\")"
      ],
      "execution_count": null,
      "outputs": [
        {
          "output_type": "stream",
          "text": [
            "Enter a number:7\n",
            "7 is an odd number\n"
          ],
          "name": "stdout"
        }
      ]
    },
    {
      "cell_type": "markdown",
      "metadata": {
        "id": "nRHgYDmRolw0"
      },
      "source": [
        "3b) Using a for loop, write a program that prints out the decimal equivalents of 1/2, 1/3, 1/4, . . .1/10"
      ]
    },
    {
      "cell_type": "code",
      "metadata": {
        "colab": {
          "base_uri": "https://localhost:8080/"
        },
        "id": "Sj6PPx4kopgy",
        "outputId": "b706b31e-c77a-4e65-ac4a-15abf1550457"
      },
      "source": [
        "for I in range(2,11):\n",
        "  print(\"1 /\",I,\" = \",1/I)"
      ],
      "execution_count": null,
      "outputs": [
        {
          "output_type": "stream",
          "text": [
            "1 / 2  =  0.5\n",
            "1 / 3  =  0.3333333333333333\n",
            "1 / 4  =  0.25\n",
            "1 / 5  =  0.2\n",
            "1 / 6  =  0.16666666666666666\n",
            "1 / 7  =  0.14285714285714285\n",
            "1 / 8  =  0.125\n",
            "1 / 9  =  0.1111111111111111\n",
            "1 / 10  =  0.1\n"
          ],
          "name": "stdout"
        }
      ]
    },
    {
      "cell_type": "markdown",
      "metadata": {
        "id": "ssQbfJWzpCzv"
      },
      "source": [
        "3c) Write a program using a for loop that loops over a sequence. What is sequence?"
      ]
    },
    {
      "cell_type": "code",
      "metadata": {
        "colab": {
          "base_uri": "https://localhost:8080/"
        },
        "id": "-YsUnb4HpGiM",
        "outputId": "4942cc32-742a-4fbd-e012-3b644ea0353c"
      },
      "source": [
        "arr=[4,\"ABC\",-45,'c',10.5,True,5,10.6,\"xyz\"]\n",
        "print(\"Given array:\",arr) \n",
        "for x in arr:\n",
        "   print(x)"
      ],
      "execution_count": null,
      "outputs": [
        {
          "output_type": "stream",
          "text": [
            "Given array: [4, 'ABC', -45, 'c', 10.5, True, 5, 10.6, 'xyz']\n",
            "4\n",
            "ABC\n",
            "-45\n",
            "c\n",
            "10.5\n",
            "True\n",
            "5\n",
            "10.6\n",
            "xyz\n"
          ],
          "name": "stdout"
        }
      ]
    },
    {
      "cell_type": "markdown",
      "metadata": {
        "id": "mvNKKsYeqS2d"
      },
      "source": [
        " d) Write a program using a while loop that asks the user for a number, and prints a countdownfrom \n",
        "that number to zero."
      ]
    },
    {
      "cell_type": "code",
      "metadata": {
        "colab": {
          "base_uri": "https://localhost:8080/"
        },
        "id": "ehe_bqOQqaO0",
        "outputId": "c8873d52-44ae-460f-9a50-be30ec54086f"
      },
      "source": [
        "n=int(input(\"Enter the number to start countdown:\"))\n",
        "while n>=0:\n",
        "  print(n)\n",
        "  n-=1"
      ],
      "execution_count": null,
      "outputs": [
        {
          "output_type": "stream",
          "text": [
            "Enter the number to start countdown:5\n",
            "5\n",
            "4\n",
            "3\n",
            "2\n",
            "1\n",
            "0\n"
          ],
          "name": "stdout"
        }
      ]
    },
    {
      "cell_type": "markdown",
      "metadata": {
        "id": "j4JqDptfreDj"
      },
      "source": [
        "Exercise 4\n",
        "a) Find the sum of all the primes below two million"
      ]
    },
    {
      "cell_type": "code",
      "metadata": {
        "colab": {
          "base_uri": "https://localhost:8080/",
          "height": 146
        },
        "id": "YxbvU_Am1IoE",
        "outputId": "2d9d8352-a41a-4fe8-e313-5e6ef45d15aa"
      },
      "source": [
        "n=int(input(\"Enter an ending number:\") \n",
        "st=\"\"\n",
        " \n",
        "sum=0\n",
        "for i in range(2,n) \n",
        "  state=True\n",
        "  for j in range(2,i)\n",
        "    if(i%j)==0:\n",
        "      state=False\n",
        "      break;\n",
        "  if state==True:\n",
        "    st+=\" \"+str(i) \n",
        "    sum+=i\n",
        "print(\"Prime numbers\") \n",
        "print(st) \n",
        "print(\"Sum of prime numbers\",sum)"
      ],
      "execution_count": null,
      "outputs": [
        {
          "output_type": "error",
          "ename": "SyntaxError",
          "evalue": "ignored",
          "traceback": [
            "\u001b[0;36m  File \u001b[0;32m\"<ipython-input-25-c54bd7d48b39>\"\u001b[0;36m, line \u001b[0;32m2\u001b[0m\n\u001b[0;31m    st=\"\"\u001b[0m\n\u001b[0m     ^\u001b[0m\n\u001b[0;31mSyntaxError\u001b[0m\u001b[0;31m:\u001b[0m invalid syntax\n"
          ]
        }
      ]
    },
    {
      "cell_type": "markdown",
      "metadata": {
        "id": "qroA769RtbNF"
      },
      "source": [
        " 4b)Each new term in the Fibonacci sequence is \n",
        "generated by adding the previous two terms. Bystarting with 1 and 2, the first 10 terms will be:\n",
        "1, 2, 3, 5, 8, 13, 21, 34, 55, 89, ..."
      ]
    },
    {
      "cell_type": "code",
      "metadata": {
        "colab": {
          "base_uri": "https://localhost:8080/"
        },
        "id": "ah6V9a7MupZ8",
        "outputId": "6930ae77-056d-498f-8e64-3b6c55587d5e"
      },
      "source": [
        "#Fibonacci series\n",
        "n=int(input(\"Enter value of n:\")) \n",
        "a=0\n",
        "b=1\n",
        "c=a+b\n",
        "while c<n:\n",
        "  print(c,end=' ') \n",
        "  a=b\n",
        "  b=c\n",
        "  c=a+b"
      ],
      "execution_count": null,
      "outputs": [
        {
          "output_type": "stream",
          "text": [
            "Enter value of n:1000\n",
            "1 2 3 5 8 13 21 34 55 89 144 233 377 610 987 "
          ],
          "name": "stdout"
        }
      ]
    },
    {
      "cell_type": "markdown",
      "metadata": {
        "id": "JddultJYwN7R"
      },
      "source": [
        " 4c) By considering the terms in the Fibonacci sequence whose values do not exceed four million,find \n",
        "the sum of the even-valued terms."
      ]
    },
    {
      "cell_type": "code",
      "metadata": {
        "colab": {
          "base_uri": "https://localhost:8080/"
        },
        "id": "ImW2HdkCw3FK",
        "outputId": "3ea473f1-9713-4a1c-850a-e3faacfa5fd6"
      },
      "source": [
        "n=int(input(\"Enter value of n:\"))\n",
        " \n",
        "a=0\n",
        "b=1\n",
        "c=a+b\n",
        "sum=0\n",
        "print(\"Even numbers in Fibonacci series:\",end=\" \") \n",
        "while c<n:\n",
        "  if c%2==0:\n",
        "    print(c,end=' ') \n",
        "    sum+=c\n",
        "  a=b\n",
        "  b=c\n",
        "  c=a+b\n",
        "print(\"\\nSum of Fibonacci series is:\", sum)"
      ],
      "execution_count": null,
      "outputs": [
        {
          "output_type": "stream",
          "text": [
            "Enter value of n:4000000\n",
            "Even numbers in Fibonacci series: 2 8 34 144 610 2584 10946 46368 196418 832040 3524578 \n",
            "Sum of Fibonacci series is: 4613732\n"
          ],
          "name": "stdout"
        }
      ]
    },
    {
      "cell_type": "markdown",
      "metadata": {
        "id": "XPQwIqddgixu"
      },
      "source": [
        "5a) Write a program to count the numbers of characters in the string and store them in a dictionary data structure"
      ]
    },
    {
      "cell_type": "code",
      "metadata": {
        "colab": {
          "base_uri": "https://localhost:8080/"
        },
        "id": "f1kzaMK-iw9Q",
        "outputId": "eca12879-8fc5-4613-de1e-ef6f7f32f53a"
      },
      "source": [
        "name=input (\"Enter a Name \") \n",
        "dic={}\n",
        " \n",
        "for ch in name:\n",
        "  keys=dic.keys() \n",
        " \n",
        "  if(ch in keys):\n",
        "    dic[ch]-dic[ch]+1\n",
        "  else:\n",
        "    dic[ch]=1\n",
        " \n",
        "print(\" Dictionary is:\",dic)"
      ],
      "execution_count": null,
      "outputs": [
        {
          "output_type": "stream",
          "text": [
            "Enter a Name Neelima\n",
            " Dictionary is: {'N': 1, 'e': 1, 'l': 1, 'i': 1, 'm': 1, 'a': 1}\n"
          ],
          "name": "stdout"
        }
      ]
    },
    {
      "cell_type": "markdown",
      "metadata": {
        "id": "_ONkoxbTrHc2"
      },
      "source": [
        "5b) write a program to use split and join methods in the string and trace a birthday with a dictionary data structures"
      ]
    },
    {
      "cell_type": "code",
      "metadata": {
        "colab": {
          "base_uri": "https://localhost:8080/"
        },
        "id": "2M_bqDAYshYy",
        "outputId": "ec5777cd-b1c6-4d80-8014-b827a7eed896"
      },
      "source": [
        "dob={\"parnika\":\"07-Nov-2015\", \"kk\":\" 10-10-2000\"}\n",
        " \n",
        "name=input(\"Which person DOB you want\") \n",
        "l=name.split () \n",
        "birth=\" \"\n",
        " \n",
        "for i in l:\n",
        "  if i in dob.keys():\n",
        "     Pers=i\n",
        " \n",
        "print(\" \".join([Pers, \"Birthday is\",dob[Pers]]))"
      ],
      "execution_count": null,
      "outputs": [
        {
          "output_type": "stream",
          "text": [
            "Which person DOB you wantparnika\n",
            "parnika Birthday is 07-Nov-2015\n"
          ],
          "name": "stdout"
        }
      ]
    },
    {
      "cell_type": "markdown",
      "metadata": {
        "id": "Fu9O6L-6vX_1"
      },
      "source": [
        " Exercise 6 a) write a program combine lists that combines these lists into a dictionary"
      ]
    },
    {
      "cell_type": "code",
      "metadata": {
        "colab": {
          "base_uri": "https://localhost:8080/"
        },
        "id": "cUyLY6p_vxfG",
        "outputId": "ba7a0ed8-8a00-49cc-9754-56fdb05a5dab"
      },
      "source": [
        "subj=[\"DAA\",\"OS\", \"DBMS\", \" P&S\", \"PPL\", \" SE\"]\n",
        "marks=[85,96,78,68,98,56]\n",
        " \n",
        "print(\"Given lists are:\") \n",
        "print(\"Subjects names:\",subj) \n",
        "print(\"Marks values:\",marks) \n",
        " \n",
        "dic=dict(zip(subj, marks)) \n",
        "print(\"\\n Dictionary:\",dic)"
      ],
      "execution_count": null,
      "outputs": [
        {
          "output_type": "stream",
          "text": [
            "Given lists are:\n",
            "Subjects names: ['DAA', 'OS', 'DBMS', ' P&S', 'PPL', ' SE']\n",
            "Marks values: [85, 96, 78, 68, 98, 56]\n",
            "\n",
            " Dictionary: {'DAA': 85, 'OS': 96, 'DBMS': 78, ' P&S': 68, 'PPL': 98, ' SE': 56}\n"
          ],
          "name": "stdout"
        }
      ]
    },
    {
      "cell_type": "markdown",
      "metadata": {
        "id": "EDwdxOmmxvS-"
      },
      "source": [
        "b) Write a program to count frequency of characters in a given file. Can you use characterfrequency to \n",
        "tell whether the given file is a Python program file, C program file or a text file?"
      ]
    },
    {
      "cell_type": "code",
      "metadata": {
        "id": "TQhYyePg4hrG"
      },
      "source": [
        "filetypes=['.py','.c','.txt']\n",
        "fn=input(\"Enter the file name:\") \n",
        "f=open(fn,\"r\") \n",
        "count=dict() \n",
        " \n",
        "print(\" Given file is \",end=\" \") \n",
        "for ft in filetypes:\n",
        " if(ft in fn):\n",
        "  if(ft=='.py'):\n",
        "    print(\"Python File\") \n",
        "  elif(ft=='.c'):\n",
        "    print(\"C File\") \n",
        "  elif(ft=='.txt'):\n",
        "    print(\"Text File\") \n",
        "for line in f:\n",
        "  for ch in line:\n",
        "      if ch in count:\n",
        "        count[ch]=count[ch]+1\n",
        "      else:\n",
        "        count[ch]=1\n",
        "print(count) \n",
        "fclose()"
      ],
      "execution_count": null,
      "outputs": []
    },
    {
      "cell_type": "markdown",
      "metadata": {
        "id": "Vbj_RFGoTlOP"
      },
      "source": [
        " Exercise - 7\n",
        "a) Write a program to print each line of a file in reverse order"
      ]
    },
    {
      "cell_type": "code",
      "metadata": {
        "id": "o04XubnvVxWZ"
      },
      "source": [
        "obj=open(\"sam.txt\",\"r\")\n",
        "if obj:\n",
        "    st=obj.read()\n",
        "    print(\"file content is:\")\n",
        "obj.close()\n",
        " \n",
        "print()\n",
        "lines=st.split('\\n')\n",
        " \n",
        "for ln in lines:\n",
        "    i=len(ln)-1\n",
        "    while(i>=0):\n",
        "      print(ln[i],end='')\n",
        "      i=i-1\n",
        "    print()"
      ],
      "execution_count": null,
      "outputs": []
    },
    {
      "cell_type": "markdown",
      "metadata": {
        "id": "Cb8ePe3qWV5p"
      },
      "source": [
        " \n",
        "7 \n",
        "b) Write a program to compute the number of characters, words and lines in a file."
      ]
    },
    {
      "cell_type": "code",
      "metadata": {
        "id": "Hw8NK8U0WZhl"
      },
      "source": [
        ""
      ],
      "execution_count": null,
      "outputs": []
    },
    {
      "cell_type": "markdown",
      "metadata": {
        "id": "_7iyPLcUX8pz"
      },
      "source": [
        " Exercise - 8 \n",
        "a) Write a function ball collide that takes two balls as parameters and computes if they arecolliding. \n",
        "Your function should return a Boolean representing whether or not the balls arecolliding."
      ]
    },
    {
      "cell_type": "code",
      "metadata": {
        "colab": {
          "base_uri": "https://localhost:8080/"
        },
        "id": "CR7lQ1JLYluh",
        "outputId": "ec98994a-a53a-4cbb-e081-cb1b4e518893"
      },
      "source": [
        "import math\n",
        "def ballcollide(b1tup,b2tup):\n",
        "    x1=b1tup[0]\n",
        "    y1=b1tup[1]\n",
        "    x2=b2tup[0]\n",
        "    y2=b2tup[1]\n",
        "    r1=b1tup[2]\n",
        "    r2=b2tup[2]\n",
        " \n",
        " \n",
        "    d=math.sqrt((x2-x1)**2+(y2-y1)**2)\n",
        "    if(d<=r1+r2):\n",
        "      return True\n",
        "    else:\n",
        "        return False\n",
        " \n",
        " \n",
        "ball1=(1,2,3)\n",
        "ball2=(3,2,1)\n",
        "c=ballcollide(ball1,ball2)\n",
        "if(c):\n",
        "    print(\"balls are collided\")\n",
        "else:\n",
        "    print(\"ball are not collided\")"
      ],
      "execution_count": null,
      "outputs": [
        {
          "output_type": "stream",
          "text": [
            "balls are collided\n"
          ],
          "name": "stdout"
        }
      ]
    },
    {
      "cell_type": "markdown",
      "metadata": {
        "id": "XXaKNPUNY5Jl"
      },
      "source": [
        " 8b) Find mean, median, mode for the given set of numbers in a list."
      ]
    },
    {
      "cell_type": "code",
      "metadata": {
        "colab": {
          "base_uri": "https://localhost:8080/",
          "height": 180
        },
        "id": "wnWQYZz7Y9bq",
        "outputId": "ffbdbeff-8520-4c79-e55e-fee162ef7b8a"
      },
      "source": [
        "def mean(num_list):\n",
        "    return sum(num_list)/len(num_list)\n",
        "def median(num_list):\n",
        "    numlist.sort()\n",
        "    print(num_list)\n",
        "    n=len(num_list)\n",
        "    print(\"total\",n)\n",
        "    mid=n//2\n",
        "    print(\"mid:\",mid)\n",
        "    if(n%2==0):\n",
        "        return num_list[mid]\n",
        "    else:\n",
        "        return (num_list[mid-1]+num_list[mid])/2\n",
        "def mode(num_list):\n",
        "    numlist.sort()\n",
        "    temp=[]\n",
        "    i=0\n",
        "    while i<len(num_list):\n",
        "        temp.append(numlist.count(numlist[i]))\n",
        "        i+=1\n",
        "    dic=dict(zip(num_list,temp))\n",
        "    mode={k for(k,v)in dic.items() if(v==max(temp)}\n",
        "    return mode\n",
        "list=[1,1,2,2,3,4,5,3,3]\n",
        "print(\"mean of given list:\",mean(list))\n",
        "print(\"median of given list:\",median(list))\n",
        " \n",
        "print(\"mode of guive list:\",mode(list))"
      ],
      "execution_count": null,
      "outputs": [
        {
          "output_type": "error",
          "ename": "SyntaxError",
          "evalue": "ignored",
          "traceback": [
            "\u001b[0;36m  File \u001b[0;32m\"<ipython-input-36-3b8a682f0d73>\"\u001b[0;36m, line \u001b[0;32m22\u001b[0m\n\u001b[0;31m    mode={k for(k,v)in dic.items() if(v==max(temp)}\u001b[0m\n\u001b[0m                                                  ^\u001b[0m\n\u001b[0;31mSyntaxError\u001b[0m\u001b[0;31m:\u001b[0m invalid syntax\n"
          ]
        }
      ]
    },
    {
      "cell_type": "markdown",
      "metadata": {
        "id": "vUq7U80bbWEl"
      },
      "source": [
        " Exercise - 9\n",
        "a) Write a function nearly equal to test whether two strings are nearly equal. Two strings a and bare \n",
        "nearly equal when a can be generated by a single mutation on b."
      ]
    },
    {
      "cell_type": "code",
      "metadata": {
        "colab": {
          "base_uri": "https://localhost:8080/"
        },
        "id": "UmcRKYy4bdAw",
        "outputId": "9e573c4b-2c17-45fc-eddc-522dbcffc402"
      },
      "source": [
        " \n",
        "def nearly_eq(str1,str2):\n",
        "    count=0\n",
        "    i=j=0\n",
        "    ss=0\n",
        "    while(i<len(str1)and j<len(str2)):\n",
        "        if(str1[i]!=str2[j]):\n",
        "            count+=1\n",
        "        if(len(str1)>len(str2)):\n",
        "            i+=1\n",
        " \n",
        "        elif(len(str1)==len(str2)):\n",
        "            pass\n",
        "        else:\n",
        "            i-=1     \n",
        "        if(count>1):\n",
        "             ss-=1\n",
        "             \n",
        "        i+=1\n",
        "        j+=1\n",
        "        if(count<2):\n",
        "             ss+=1\n",
        " \n",
        "    return ss\n",
        "s1=input(\"enter a string 1:\")\n",
        "s2=input(\"enter the string2:\")\n",
        "t=nearly_eq(s1,s2)\n",
        "if(t>1):\n",
        "    print(\"neraly equal0\")\n",
        "else:\n",
        "    print(\"not nearly equal\")"
      ],
      "execution_count": null,
      "outputs": [
        {
          "output_type": "stream",
          "text": [
            "enter a string 1:Neelu\n",
            "enter the string2:Neelu\n",
            "neraly equal0\n"
          ],
          "name": "stdout"
        }
      ]
    },
    {
      "cell_type": "markdown",
      "metadata": {
        "id": "7TzCgpNAcQfv"
      },
      "source": [
        " 9b) Write a function dup to find all duplicates in the list."
      ]
    },
    {
      "cell_type": "code",
      "metadata": {
        "colab": {
          "base_uri": "https://localhost:8080/"
        },
        "id": "zUQTgFXqcVzC",
        "outputId": "8541aea8-46de-45be-b722-02e628d68459"
      },
      "source": [
        "def dup(list):\n",
        "  list1=[]\n",
        "  for i in list:\n",
        "    count=list.count(i)\n",
        "    if(count>1 and (i not in list1)):\n",
        "        list1.append(i)\n",
        "        \n",
        "  print(\"the dups int he list are:\",list1)        \n",
        "list2=[1,2,1,2]\n",
        " \n",
        "dup(list2)"
      ],
      "execution_count": null,
      "outputs": [
        {
          "output_type": "stream",
          "text": [
            "the dups int he list are: [1, 2]\n"
          ],
          "name": "stdout"
        }
      ]
    },
    {
      "cell_type": "markdown",
      "metadata": {
        "id": "ij4jEAT7cpyB"
      },
      "source": [
        " 9c) Write a function unique to find all the unique elements of a list."
      ]
    },
    {
      "cell_type": "code",
      "metadata": {
        "colab": {
          "base_uri": "https://localhost:8080/"
        },
        "id": "PRXZmiMOcw09",
        "outputId": "a5755ba7-8b44-4b06-a832-cbee500a7f51"
      },
      "source": [
        "def unique(list1):\n",
        "  list2={}\n",
        " \n",
        "  for i in list1:\n",
        "    c=list1.count(i)\n",
        "    if c==1:\n",
        "      list2[i]=c\n",
        "  print(\"the unique elements in the list are:\",list2)\n",
        " \n",
        "list=[1,2,3,45,45,6,88,88,9]\n",
        "unique(list)"
      ],
      "execution_count": null,
      "outputs": [
        {
          "output_type": "stream",
          "text": [
            "the unique elements in the list are: {1: 1, 2: 1, 3: 1, 6: 1, 9: 1}\n"
          ],
          "name": "stdout"
        }
      ]
    },
    {
      "cell_type": "markdown",
      "metadata": {
        "id": "OuDJirPIdMwO"
      },
      "source": [
        " Exercise - 10 \n",
        "a) Write a function cumulative product to compute cumulative product of a list of numbers."
      ]
    },
    {
      "cell_type": "code",
      "metadata": {
        "id": "NkyanBdGdU5_"
      },
      "source": [
        "def cumulative_product(list_1,n):\n",
        "    list_2=[]\n",
        "    i=0\n",
        "    list_2.append(list_1[i])\n",
        "    for i in range(1,n):\n",
        "        v=list_1[i]*list_2[i-1]\n",
        "        list_2.append(v)\n",
        "        \n",
        "    print(list_2)\n",
        "list_3=[]\n",
        "n=int(input(\"enter size :\"))\n",
        "print(\"enter the data:\")\n",
        "for i in range(0,n):\n",
        "    x=int(input())\n",
        "    list_3.append(x)\n",
        "cumulative_product(list_3,n)"
      ],
      "execution_count": null,
      "outputs": []
    },
    {
      "cell_type": "markdown",
      "metadata": {
        "id": "ahbDnU5pev2F"
      },
      "source": [
        " 10b) Write a function reverse to reverse a list. Without using the reverse function"
      ]
    },
    {
      "cell_type": "code",
      "metadata": {
        "colab": {
          "base_uri": "https://localhost:8080/"
        },
        "id": "DcvRhmiVe0_J",
        "outputId": "914791f6-80c0-45b8-e859-ffb565259f5d"
      },
      "source": [
        "def reverse_list(numlist):\n",
        "    temp=list1[::-1]\n",
        "    numlist=temp\n",
        "    return temp\n",
        "list1=[1,2,3,4]\n",
        "print(\"given list is :\",list1)\n",
        "print(\"after reverse function:\",reverse_list(list1))\n",
        "print(\"after list is:\",list1)"
      ],
      "execution_count": null,
      "outputs": [
        {
          "output_type": "stream",
          "text": [
            "given list is : [1, 2, 3, 4]\n",
            "after reverse function: [4, 3, 2, 1]\n",
            "after list is: [1, 2, 3, 4]\n"
          ],
          "name": "stdout"
        }
      ]
    },
    {
      "cell_type": "markdown",
      "metadata": {
        "id": "-VFIHJRwfC5k"
      },
      "source": [
        " 10c) Write function to compute gcd, lcm of two numbers. Each function shouldn’t exceed one line."
      ]
    },
    {
      "cell_type": "code",
      "metadata": {
        "colab": {
          "base_uri": "https://localhost:8080/"
        },
        "id": "HXxP82v1fH4J",
        "outputId": "62d8d185-f465-4a3d-e18c-aef5e3109411"
      },
      "source": [
        "gcd=lambda a,b: a if b==0 else gcd(a,a%b)\n",
        "lcm=lambda a,b: (a*b)/gcd(a,b)\n",
        " \n",
        "x=4\n",
        "y=24\n",
        "print(\"gcd=\",gcd(x,y))\n",
        "print(\"lcm=\",lcm(x,y))"
      ],
      "execution_count": null,
      "outputs": [
        {
          "output_type": "stream",
          "text": [
            "gcd= 4\n",
            "lcm= 24.0\n"
          ],
          "name": "stdout"
        }
      ]
    }
  ]
}
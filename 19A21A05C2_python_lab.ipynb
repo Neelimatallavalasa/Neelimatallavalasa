{
  "nbformat": 4,
  "nbformat_minor": 0,
  "metadata": {
    "colab": {
      "name": "19A21A05C2-python lab",
      "provenance": [],
      "authorship_tag": "ABX9TyOOwvYGNQbprIyKlon+pPYD",
      "include_colab_link": true
    },
    "kernelspec": {
      "name": "python3",
      "display_name": "Python 3"
    },
    "language_info": {
      "name": "python"
    }
  },
  "cells": [
    {
      "cell_type": "markdown",
      "metadata": {
        "id": "view-in-github",
        "colab_type": "text"
      },
      "source": [
        "<a href=\"https://colab.research.google.com/github/Neelimatallavalasa/Neelimatallavalasa/blob/main/19A21A05C2_python_lab.ipynb\" target=\"_parent\"><img src=\"https://colab.research.google.com/assets/colab-badge.svg\" alt=\"Open In Colab\"/></a>"
      ]
    },
    {
      "cell_type": "code",
      "metadata": {
        "id": "iZd8fTvLVuCb"
      },
      "source": [
        ""
      ],
      "execution_count": null,
      "outputs": []
    },
    {
      "cell_type": "markdown",
      "metadata": {
        "id": "NYO1GkrioQjM"
      },
      "source": [
        " \n",
        " \n",
        "_______________________________________\n",
        "**NAME:NEELIMA**\n",
        " \n",
        "**REGNO:19A21A05C2**\n",
        " \n",
        "**SEC:CSE-B**\n",
        "__________ _____________________________"
      ]
    },
    {
      "cell_type": "markdown",
      "metadata": {
        "id": "dYgJKBuIVwoD"
      },
      "source": [
        "**EXERCISE-1**\n",
        " \n",
        "A) RUNNING INSTRUCTIONS IN INTERACTIVE INTERPRETER AND A PYTHON SCRIPT"
      ]
    },
    {
      "cell_type": "markdown",
      "metadata": {
        "id": "aae1wzDNYndr"
      },
      "source": [
        "**AIM**:\n",
        "\n",
        "a) Running instructions in Interactive interpreter and a Python Script\n",
        "\n",
        "**DESCRIPTION**:\n",
        "\n",
        "Python is a high-level, interpreted, interactive and object-oriented scripting language. Python is designed to be highly readable. It uses English keywords frequently where as other languages use punctuation, and it has fewer syntactical constructions than other languages.\n",
        "\n",
        "Python is Interpreted\n",
        "\n",
        "Python is Interactive\n",
        "\n",
        "Python is Object-Oriented\n",
        "\n",
        "Python is a Beginner's Language\n",
        "\n",
        "Python Programming Running Python Scripts\n",
        "\n",
        "Running Python in THREE ways:\n",
        "\n",
        "a) Running Python Interpreter\n",
        "\n",
        "b) Running Python Scripts in IDLE\n",
        "\n",
        "c) Running python scripts in Command Prompt\n",
        "\n",
        "a) Running Python Interpreter: Python comes with an interactive interpreter. When you type python in your shell or command prompt, the python interpreter becomes active with a >>> prompt and waits for your commands\n",
        "\n",
        "b) Running Python Scripts in IDLE: . Go to File menu click on New File (CTRL+N) and write the code and save first.py\n",
        "\n",
        "c) *Running python scripts in Command Prompt: * · Before going to run we have to check the PATH in environment variables."
      ]
    },
    {
      "cell_type": "code",
      "metadata": {
        "colab": {
          "base_uri": "https://localhost:8080/"
        },
        "id": "M5kHuCzPPgTb",
        "outputId": "0144d58a-6bc8-4f03-8b22-727ef34df0b9"
      },
      "source": [
        "print (\"welcome to python\")"
      ],
      "execution_count": null,
      "outputs": [
        {
          "output_type": "stream",
          "name": "stdout",
          "text": [
            "welcome to python\n"
          ]
        }
      ]
    },
    {
      "cell_type": "markdown",
      "metadata": {
        "id": "He3Z66LOa1uW"
      },
      "source": [
        "1B) WRITE A PROGRAM TO PURPOSEFULLY RAISE INDENTATION ERROR AND CORRECT IT"
      ]
    },
    {
      "cell_type": "markdown",
      "metadata": {
        "id": "L-YDjUkhYuyU"
      },
      "source": [
        "**AIM**:\n",
        "\n",
        "To Write a program to purposefully raise Indentation Error and Correct it\n",
        "\n",
        "**DESCRIPTION** :\n",
        "\n",
        "Indentation\n",
        "\n",
        "Python does not support braces to indicate blocks of code for class and function definitions or flow control.\n",
        "\n",
        "Blocks of code are denoted by line indentation.\n",
        "\n",
        "All the continuous lines indented with same number of spaces would form a block.\n",
        "\n",
        "Python strictly follow indentation rules to indicate the blocks."
      ]
    },
    {
      "cell_type": "code",
      "metadata": {
        "id": "KR8abcT1brvW"
      },
      "source": [
        "#Error code\n",
        "if True:\n",
        "print(\"True\") \n",
        "else:\n",
        "  print(\"False\")"
      ],
      "execution_count": null,
      "outputs": []
    },
    {
      "cell_type": "code",
      "metadata": {
        "colab": {
          "base_uri": "https://localhost:8080/"
        },
        "id": "2DL_xKpqcQ6u",
        "outputId": "8fbbba71-e7e9-4419-acfe-a1eb6737508e"
      },
      "source": [
        "#corrected code\n",
        "if True:\n",
        "   print(\"True\") \n",
        "else:\n",
        "   print(\"False\")"
      ],
      "execution_count": null,
      "outputs": [
        {
          "output_type": "stream",
          "text": [
            "True\n"
          ],
          "name": "stdout"
        }
      ]
    },
    {
      "cell_type": "code",
      "metadata": {
        "colab": {
          "base_uri": "https://localhost:8080/",
          "height": 163
        },
        "id": "khPF9gW7ceir",
        "outputId": "3fbd3b35-e94d-40e9-ad92-bca9a3af4e2f"
      },
      "source": [
        "#Error codecodet\n",
        "if True:\n",
        "   print(\"True 1\") \n",
        "     print(\"True 2\") \n",
        "else:\n",
        "   print(\"False\")"
      ],
      "execution_count": null,
      "outputs": [
        {
          "output_type": "error",
          "ename": "IndentationError",
          "evalue": "ignored",
          "traceback": [
            "\u001b[0;36m  File \u001b[0;32m\"<ipython-input-22-6679a0f77427>\"\u001b[0;36m, line \u001b[0;32m4\u001b[0m\n\u001b[0;31m    print(\"True 2\")\u001b[0m\n\u001b[0m    ^\u001b[0m\n\u001b[0;31mIndentationError\u001b[0m\u001b[0;31m:\u001b[0m unexpected indent\n"
          ]
        }
      ]
    },
    {
      "cell_type": "code",
      "metadata": {
        "colab": {
          "base_uri": "https://localhost:8080/"
        },
        "id": "40DpUydCc8WQ",
        "outputId": "15393a20-9b10-4d1c-e90d-b28f89619b1f"
      },
      "source": [
        "aaaqaqqqqq#corrected code\n",
        "if True:\n",
        "   print(\"True 1\") \n",
        "   print(\"True 2\") \n",
        "else:\n",
        "   print(\"False\")"
      ],
      "execution_count": null,
      "outputs": [
        {
          "output_type": "stream",
          "text": [
            "True 1\n",
            "True 2\n"
          ],
          "name": "stdout"
        }
      ]
    },
    {
      "cell_type": "markdown",
      "metadata": {
        "id": "b-5e3vQvRP6S"
      },
      "source": [
        " EXERCISE-2\n",
        " \n",
        "WRITE A PROGRAM TO COMPUTE DISTANCE BETWEEN TWO POINTS TAKING FROM INPUT FROM USER"
      ]
    },
    {
      "cell_type": "markdown",
      "metadata": {
        "id": "1Fpd0t4oZDw0"
      },
      "source": [
        "AIM:\n",
        "\n",
        "TO COMPUTE DISTANCE BETWEEN TWO POINTS\n",
        "\n",
        "DESCRIPTION:\n",
        "\n",
        "Taking Input From the User: A function is defined as a block of organized, reusable code used to perform a single, related action. Python has many built-in functions; you can also create your own.\n",
        "\n",
        "Python has an input function which lets you ask a user for some text input. You call this function to tell the program to stop and wait for the user to key in the data.\n",
        "\n",
        "In Python 2, you have a built-in function raw_input(), whereas in Python 3, you have input(). The program will resume once the user presses the ENTER or RETURN key.\n",
        "\n",
        "Input Function\n",
        "\n",
        "input(prompt=None,/).\n",
        "\n",
        "Read a string from standard input. The trailing newline is stripped.\n",
        "\n",
        "The prompt string, if given, is printed to standard output without a trailing newline before reading input.\n",
        "\n",
        "If the user hits EOF (*nix: Ctrl-D, Windows: Ctrl Z+Return), raise EOFError."
      ]
    },
    {
      "cell_type": "code",
      "metadata": {
        "colab": {
          "base_uri": "https://localhost:8080/"
        },
        "id": "vV5EnTI1RkB4",
        "outputId": "3465a780-924c-4ebb-9621-0bfe1dc62e43"
      },
      "source": [
        "x1=int(input(\"Enter x coordinate of point1:\"))\n",
        "y1=int(input(\"Enter y coordinate of point1:\"))\n",
        "x2=int(input(\"Enter y coordinate of point2:\"))\n",
        "y2=int(input(\"Enter y coordinate of point2:\"))\n",
        "d=(x2-x1)**2 +(y2-y1)**2\n",
        "d=d**(1/2)\n",
        "print(d)"
      ],
      "execution_count": null,
      "outputs": [
        {
          "output_type": "stream",
          "text": [
            "Enter x coordinate of point1:2\n",
            "Enter y coordinate of point1:5\n",
            "Enter y coordinate of point2:3\n",
            "Enter y coordinate of point2:6\n",
            "1.4142135623730951\n"
          ],
          "name": "stdout"
        }
      ]
    },
    {
      "cell_type": "code",
      "metadata": {
        "id": "8ULOhsUXUxuv"
      },
      "source": [
        ""
      ],
      "execution_count": null,
      "outputs": []
    },
    {
      "cell_type": "markdown",
      "metadata": {
        "id": "qUGVLbUoVcwn"
      },
      "source": [
        "B.TAKE TWO NUMBERS ON COMMAND LINE ARGUMENTS AND PRINT THE SUM"
      ]
    },
    {
      "cell_type": "markdown",
      "metadata": {
        "id": "3VlF_e-FZT4w"
      },
      "source": [
        "AIM:\n",
        "\n",
        "To TAKE TWO NUMBERS ON COMMAND LINE ARGUMENTS AND PRINT THE SUM\n",
        "\n",
        "DESCRIPTION:\n",
        "\n",
        "The arguments that are given after the name of the program in the command line shell of the operating system are known as Command Line Arguments. Python provides various ways of dealing with these types of arguments. The three most common are:\n",
        "\n",
        "Using sys.argv\n",
        "\n",
        "Using getopt module\n",
        "\n",
        "Using argparse module\n",
        "\n",
        "Using sys.argv\n",
        "\n",
        "The sys module provides functions and variables used to manipulate different parts of the Python runtime environment. This module provides access to some variables used or maintained by the interpreter and to functions that interact strongly with the interpreter.\n",
        "\n",
        "One such variable is sys.argv which is a simple list structure. It’s main purpose are:\n",
        "\n",
        "It is a list of command line arguments.\n",
        "\n",
        "len(sys.argv) provides the number of command line arguments.\n",
        "\n",
        "sys.argv[0] is the name of the current Python script."
      ]
    },
    {
      "cell_type": "code",
      "metadata": {
        "id": "tKtfy_Y3WkWE"
      },
      "source": [
        "import sys\n",
        "a=int(sys.argv[1]) \n",
        "b=int(sys.argv[2]) \n",
        " \n",
        "sum=a+b\n",
        "print(\"Sum of two numbers is:\",sum)"
      ],
      "execution_count": null,
      "outputs": []
    },
    {
      "cell_type": "markdown",
      "metadata": {
        "id": "tXMr3ncLZu3H"
      },
      "source": [
        "output\n",
        "\n",
        "C:\\Users\\dimple saubhash\\Desktop\\python files>python commd.py 10 30 summ of two number is: 40\n",
        "\n",
        "C:\\Users\\dimple saubhash\\Desktop\\python files>"
      ]
    },
    {
      "cell_type": "code",
      "metadata": {
        "id": "n395tCntexRs"
      },
      "source": [
        ""
      ],
      "execution_count": null,
      "outputs": []
    },
    {
      "cell_type": "markdown",
      "metadata": {
        "id": "C812ex29eylc"
      },
      "source": [
        " EXERCISE 3\n",
        " \n",
        "A) WRITE A PROGRAM FOR CHECKING WEATHER THE GIVEN NUMBER IS AN EVEN NUMBER OR NOT"
      ]
    },
    {
      "cell_type": "markdown",
      "metadata": {
        "id": "47ERgmPdZ7lN"
      },
      "source": [
        "AIM:\n",
        "\n",
        "a) To write a Program for checking whether the given number is an even number or not.\n",
        "\n",
        "DESCRIPTION:\n",
        "\n",
        "if..else Statement When there is an alternate operation in control flow, use an else statement alongside with if statement. The general format is\n",
        "\n",
        "if condition:\n",
        "\n",
        "true statement\n",
        "else:\n",
        "\n",
        " false statement"
      ]
    },
    {
      "cell_type": "code",
      "metadata": {
        "colab": {
          "base_uri": "https://localhost:8080/"
        },
        "id": "i-q_bYiIgLe2",
        "outputId": "fc8da220-74ae-49d8-e801-ad20197e5273"
      },
      "source": [
        "n=int(input(\"Enter a number:\"))\n",
        "if (n%2==0):\n",
        "  print(n,\"is an even number\")\n",
        "else:\n",
        "  print(n,\"is an odd number\")"
      ],
      "execution_count": null,
      "outputs": [
        {
          "output_type": "stream",
          "text": [
            "Enter a number:7\n",
            "7 is an odd number\n"
          ],
          "name": "stdout"
        }
      ]
    },
    {
      "cell_type": "markdown",
      "metadata": {
        "id": "nRHgYDmRolw0"
      },
      "source": [
        "3B) USING A FOR LOOP, WRITE A PROGRAM THAT PRINTS OUT THE DECIMAL EQUIVALENTS OF 1/2, 1/3, 1/4, . . .1/10"
      ]
    },
    {
      "cell_type": "markdown",
      "metadata": {
        "id": "LY0fub3haKWd"
      },
      "source": [
        "AIM:\n",
        "\n",
        "b) Using a for loop, write a program that prints out the decimal equivalents of 1/2, 1/3, 1/4, . . .1/10\n",
        "\n",
        "DESCRIPTION\n",
        "\n",
        "For Loop: For loops can iterate over a sequence of numbers using the \"range\" and \"xrange\" functions. The difference between range and xrange is that the range function returns a new list with numbers of that specified range, whereas xrange returns an iterator, which is more efficient.\n",
        "\n",
        "The general format is\n",
        "\n",
        "for x in range(start,stop,step):\n",
        "\n",
        "statements"
      ]
    },
    {
      "cell_type": "code",
      "metadata": {
        "colab": {
          "base_uri": "https://localhost:8080/"
        },
        "id": "Sj6PPx4kopgy",
        "outputId": "b706b31e-c77a-4e65-ac4a-15abf1550457"
      },
      "source": [
        "for I in range(2,11):\n",
        "  print(\"1 /\",I,\" = \",1/I)"
      ],
      "execution_count": null,
      "outputs": [
        {
          "output_type": "stream",
          "text": [
            "1 / 2  =  0.5\n",
            "1 / 3  =  0.3333333333333333\n",
            "1 / 4  =  0.25\n",
            "1 / 5  =  0.2\n",
            "1 / 6  =  0.16666666666666666\n",
            "1 / 7  =  0.14285714285714285\n",
            "1 / 8  =  0.125\n",
            "1 / 9  =  0.1111111111111111\n",
            "1 / 10  =  0.1\n"
          ],
          "name": "stdout"
        }
      ]
    },
    {
      "cell_type": "markdown",
      "metadata": {
        "id": "ssQbfJWzpCzv"
      },
      "source": [
        "3C) WRITE A PROGRAM USING A FOR LOOP THAT LOOPS OVER A SEQUENCE. WHAT IS SEQUENCE?"
      ]
    },
    {
      "cell_type": "markdown",
      "metadata": {
        "id": "DTnMBn_0ae58"
      },
      "source": [
        "AIM:\n",
        "\n",
        "c) Write a program using a for loop that loops over a sequence. What is sequence?\n",
        "\n",
        "DESCRIPTION:\n",
        "\n",
        "For Loop: For loops can iterate over a sequence of numbers using the \"range\" and \"xrange\" functions. The difference between range and xrange is that the range function returns a new list with numbers of that specified range, whereas xrange returns an iterator, which is more efficient.\n",
        "\n",
        "The general format is\n",
        "\n",
        "for x in range(start,stop,step):\n",
        "\n",
        "statements"
      ]
    },
    {
      "cell_type": "code",
      "metadata": {
        "colab": {
          "base_uri": "https://localhost:8080/"
        },
        "id": "-YsUnb4HpGiM",
        "outputId": "4942cc32-742a-4fbd-e012-3b644ea0353c"
      },
      "source": [
        "arr=[4,\"ABC\",-45,'c',10.5,True,5,10.6,\"xyz\"]\n",
        "print(\"Given array:\",arr) \n",
        "for x in arr:\n",
        "   print(x)"
      ],
      "execution_count": null,
      "outputs": [
        {
          "output_type": "stream",
          "text": [
            "Given array: [4, 'ABC', -45, 'c', 10.5, True, 5, 10.6, 'xyz']\n",
            "4\n",
            "ABC\n",
            "-45\n",
            "c\n",
            "10.5\n",
            "True\n",
            "5\n",
            "10.6\n",
            "xyz\n"
          ],
          "name": "stdout"
        }
      ]
    },
    {
      "cell_type": "markdown",
      "metadata": {
        "id": "mvNKKsYeqS2d"
      },
      "source": [
        " D) WRITE A PROGRAM USING A WHILE LOOP THAT ASKS THE USER FOR A NUMBER, AND PRINTS A COUNTDOWNFROM \n",
        "THAT NUMBER TO ZERO."
      ]
    },
    {
      "cell_type": "markdown",
      "metadata": {
        "id": "aWE-zPk6bAa_"
      },
      "source": [
        "**AIM:**\n",
        "\n",
        "D) Write a program using a while loop that asks the user for a number, and prints a countdownfrom that number to zero.\n",
        "\n",
        "**DESCRIPTION**:\n",
        "\n",
        "While Loop is used to execute a block of statements repeatedly until a given condition is satisfied. And when the condition becomes false, the line immediately after the loop in the program is executed. While loop falls under the category of indefinite iteration\n",
        "\n",
        "The syntax for a while loop is:\n",
        "\n",
        "while [ condition]"
      ]
    },
    {
      "cell_type": "code",
      "metadata": {
        "colab": {
          "base_uri": "https://localhost:8080/"
        },
        "id": "ehe_bqOQqaO0",
        "outputId": "c8873d52-44ae-460f-9a50-be30ec54086f"
      },
      "source": [
        "n=int(input(\"Enter the number to start countdown:\"))\n",
        "while n>=0:\n",
        "  print(n)\n",
        "  n-=1"
      ],
      "execution_count": null,
      "outputs": [
        {
          "output_type": "stream",
          "text": [
            "Enter the number to start countdown:5\n",
            "5\n",
            "4\n",
            "3\n",
            "2\n",
            "1\n",
            "0\n"
          ],
          "name": "stdout"
        }
      ]
    },
    {
      "cell_type": "markdown",
      "metadata": {
        "id": "j4JqDptfreDj"
      },
      "source": [
        "**EXERCISE 4**\n",
        " \n",
        "**A) FIND THE SUM OF ALL THE PRIMES BELOW TWO MILLION**"
      ]
    },
    {
      "cell_type": "markdown",
      "metadata": {
        "id": "EL_6Z_7wbatU"
      },
      "source": [
        "**AIM:**\n",
        "\n",
        "a)To Find the sum of all the primes below two million.\n",
        "\n",
        "**DESCRIPTION:**\n",
        "\n",
        "A Fibonacci sequence is the integer sequence of 0, 1, 1, 2, 3, 5, 8....\n",
        "\n",
        "The first two terms are 0 and 1. All other terms are obtained by adding the preceding two terms. This means to say the nth term is the sum of (n-1)th and (n-2)th term\n",
        "\n",
        "Here, we store the number of terms in nterms. We initialize the first term to 0 and the second term to 1.\n",
        "\n",
        "If the number of terms is more than 2, we use a while loop to find the next term in the sequence by adding the preceding two terms. We then interchange the variables (update it) and continue on with the process."
      ]
    },
    {
      "cell_type": "code",
      "metadata": {
        "colab": {
          "base_uri": "https://localhost:8080/"
        },
        "id": "YxbvU_Am1IoE",
        "outputId": "05e94c17-b93b-4220-c0e8-6114e5821160"
      },
      "source": [
        "n=int(input(\"Enter an ending number:\")) \n",
        " \n",
        "st=\"\"\n",
        " \n",
        "sum=0\n",
        " \n",
        "for i in range(2,n):\n",
        "  state=True\n",
        "  for j in range(2,i):\n",
        "    if(i%j)==0:\n",
        "      state=False\n",
        "      break;\n",
        "  if state==True:\n",
        "    st+=\" \"+str(i) \n",
        "    sum+=i\n",
        "print(\"Prime numbers\") \n",
        "print(st) \n",
        "print(\"Sum of prime numbers\",sum)"
      ],
      "execution_count": null,
      "outputs": [
        {
          "output_type": "stream",
          "text": [
            "Enter an ending number:100\n",
            "Prime numbers\n",
            " 2 3 5 7 11 13 17 19 23 29 31 37 41 43 47 53 59 61 67 71 73 79 83 89 97\n",
            "Sum of prime numbers 1060\n"
          ],
          "name": "stdout"
        }
      ]
    },
    {
      "cell_type": "markdown",
      "metadata": {
        "id": "qroA769RtbNF"
      },
      "source": [
        " 4B)EACH NEW TERM IN THE FIBONACCI SEQUENCE IS \n",
        "GENERATED BY ADDING THE PREVIOUS TWO TERMS. BYSTARTING WITH 1 AND 2, THE FIRST 10 TERMS WILL BE:\n",
        "1, 2, 3, 5, 8, 13, 21, 34, 55, 89, ..."
      ]
    },
    {
      "cell_type": "markdown",
      "metadata": {
        "id": "SD27QGgjcL51"
      },
      "source": [
        "\n",
        "**Aim**:Each new termin the Fibonacco sequence is generated by adding the previous two terms. By starting with 1 and 2,the first 10 terms willbe:1,2,3,5,8,13,21,34,55,89,..."
      ]
    },
    {
      "cell_type": "code",
      "metadata": {
        "colab": {
          "base_uri": "https://localhost:8080/"
        },
        "id": "ah6V9a7MupZ8",
        "outputId": "6930ae77-056d-498f-8e64-3b6c55587d5e"
      },
      "source": [
        "#Fibonacci series\n",
        "n=int(input(\"Enter value of n:\")) \n",
        "a=0\n",
        "b=1\n",
        "c=a+b\n",
        "while c<n:\n",
        "  print(c,end=' ') \n",
        "  a=b\n",
        "  b=c\n",
        "  c=a+b"
      ],
      "execution_count": null,
      "outputs": [
        {
          "output_type": "stream",
          "text": [
            "Enter value of n:1000\n",
            "1 2 3 5 8 13 21 34 55 89 144 233 377 610 987 "
          ],
          "name": "stdout"
        }
      ]
    },
    {
      "cell_type": "markdown",
      "metadata": {
        "id": "JddultJYwN7R"
      },
      "source": [
        "4C) BY CONSIDERING THE TERMS IN THE FIBONACCI SEQUENCE WHOSE VALUES DO NOT EXCEED FOUR MILLION,FIND \n",
        "THE SUM OF THE EVEN-VALUED TERMS."
      ]
    },
    {
      "cell_type": "markdown",
      "metadata": {
        "id": "FtOOimxYdMx1"
      },
      "source": [
        "**Aim**:By considering the terms int he Fibonacci sequence whose values do not exceed fore million,Find the sum of the even-valued terms.\n",
        "\n",
        "**Description:** A Fibonacci sequence is the integer sequence of 0, 1, 1, 2, 3, 5, 8.... The first two terms are 0 and 1. All other terms are obtained by adding the preceding two terms. This means to say the nth term is the sum of (n-1)th and (n-2)th term Here, we store the number of terms in nterms. We initialize the first term to 0 and the second term to 1. If the number of terms is more than 2, we use a while loop to find the next term in the sequence by adding the preceding two terms. We then interchange the variables (update it) and continue on with the process."
      ]
    },
    {
      "cell_type": "code",
      "metadata": {
        "colab": {
          "base_uri": "https://localhost:8080/"
        },
        "id": "ImW2HdkCw3FK",
        "outputId": "3ea473f1-9713-4a1c-850a-e3faacfa5fd6"
      },
      "source": [
        "n=int(input(\"Enter value of n:\"))\n",
        " \n",
        "a=0\n",
        "b=1\n",
        "c=a+b\n",
        "sum=0\n",
        "print(\"Even numbers in Fibonacci series:\",end=\" \") \n",
        "while c<n:\n",
        "  if c%2==0:\n",
        "    print(c,end=' ') \n",
        "    sum+=c\n",
        "  a=b\n",
        "  b=c\n",
        "  c=a+b\n",
        "print(\"\\nSum of Fibonacci series is:\", sum)"
      ],
      "execution_count": null,
      "outputs": [
        {
          "output_type": "stream",
          "text": [
            "Enter value of n:4000000\n",
            "Even numbers in Fibonacci series: 2 8 34 144 610 2584 10946 46368 196418 832040 3524578 \n",
            "Sum of Fibonacci series is: 4613732\n"
          ],
          "name": "stdout"
        }
      ]
    },
    {
      "cell_type": "markdown",
      "metadata": {
        "id": "XPQwIqddgixu"
      },
      "source": [
        "**EXCERCISE-5**\n",
        " \n",
        "A) WRITE A PROGRAM TO COUNT THE NUMBERS OF CHARACTERS IN THE STRING AND STORE THEM IN A DICTIONARY DATA STRUCTURE"
      ]
    },
    {
      "cell_type": "markdown",
      "metadata": {
        "id": "z4lD7pWJdsI7"
      },
      "source": [
        "**AIM:**\n",
        "\n",
        "a)To Write a program to count the numbers of characters in the string and store them in adictionary data structure\n",
        "\n",
        "**DESCRIPTION:**\n",
        "\n",
        "Given a string, the task is to find the frequencies of all the characters in that string and return a dictionary with key as the character and its value as its frequency in the given string.\n",
        "\n",
        "Method #1 : Naive method\n",
        "\n",
        "Simply iterate through the string and form a key in dictionary of newly occurred element or if element is already occurred, increase its value by 1.\n",
        "\n",
        "Method #2 : Using collections.Counter()\n",
        "\n",
        "The most suggested method that could be used to find all occurrences is this method, this actually gets all element frequency and could also be used to print single element frequency if required."
      ]
    },
    {
      "cell_type": "code",
      "metadata": {
        "colab": {
          "base_uri": "https://localhost:8080/"
        },
        "id": "f1kzaMK-iw9Q",
        "outputId": "eca12879-8fc5-4613-de1e-ef6f7f32f53a"
      },
      "source": [
        "name=input (\"Enter a Name \") \n",
        "dic={}\n",
        " \n",
        "for ch in name:\n",
        "  keys=dic.keys() \n",
        " \n",
        "  if(ch in keys):\n",
        "    dic[ch]-dic[ch]+1\n",
        "  else:\n",
        "    dic[ch]=1\n",
        " \n",
        "print(\" Dictionary is:\",dic)"
      ],
      "execution_count": null,
      "outputs": [
        {
          "output_type": "stream",
          "text": [
            "Enter a Name Neelima\n",
            " Dictionary is: {'N': 1, 'e': 1, 'l': 1, 'i': 1, 'm': 1, 'a': 1}\n"
          ],
          "name": "stdout"
        }
      ]
    },
    {
      "cell_type": "markdown",
      "metadata": {
        "id": "_ONkoxbTrHc2"
      },
      "source": [
        "5B) WRITE A PROGRAM TO USE SPLIT AND JOIN METHODS IN THE STRING AND TRACE A BIRTHDAY WITH A DICTIONARY DATA STRUCTURES"
      ]
    },
    {
      "cell_type": "markdown",
      "metadata": {
        "id": "kOKkrEETd0_B"
      },
      "source": [
        "**AIM:**\n",
        "\n",
        "b) Write a program to use split and join methods in the string and trace a birthday with adictionary data structure\n",
        "\n",
        "**DESCRIPTION:**\n",
        "\n",
        "Python program to Split a string based on a delimiter and join the string using another delimiter.\n",
        "\n",
        "Split a string can be quite useful sometimes, especially when you need only certain parts of strings. A simple yet effective example is splitting the First-name and Last-name of a person. Another application is CSV(Comma Separated Files). We use split to get data from CSV and join to write data to CSV.\n",
        "\n",
        "In Python, we can use the function split() to split a string and\n",
        "\n",
        "join() to join a string."
      ]
    },
    {
      "cell_type": "code",
      "metadata": {
        "colab": {
          "base_uri": "https://localhost:8080/"
        },
        "id": "2M_bqDAYshYy",
        "outputId": "ec5777cd-b1c6-4d80-8014-b827a7eed896"
      },
      "source": [
        "dob={\"parnika\":\"07-Nov-2015\", \"kk\":\" 10-10-2000\"}\n",
        " \n",
        "name=input(\"Which person DOB you want\") \n",
        "l=name.split () \n",
        "birth=\" \"\n",
        " \n",
        "for i in l:\n",
        "  if i in dob.keys():\n",
        "     Pers=i\n",
        " \n",
        "print(\" \".join([Pers, \"Birthday is\",dob[Pers]]))"
      ],
      "execution_count": null,
      "outputs": [
        {
          "output_type": "stream",
          "text": [
            "Which person DOB you wantparnika\n",
            "parnika Birthday is 07-Nov-2015\n"
          ],
          "name": "stdout"
        }
      ]
    },
    {
      "cell_type": "markdown",
      "metadata": {
        "id": "Fu9O6L-6vX_1"
      },
      "source": [
        "** EXERCISE 6** \n",
        " \n",
        " A) WRITE A PROGRAM COMBINE LISTS THAT COMBINES THESE LISTS INTO A DICTIONARY"
      ]
    },
    {
      "cell_type": "markdown",
      "metadata": {
        "id": "BF6MeE89eH0T"
      },
      "source": [
        "**AIM:**\n",
        "\n",
        "a) Write a program combinelists that combines these lists into a dictionary.\n",
        "\n",
        "**DESCRIPTION:**\n",
        "\n",
        "For this, simply declare a dictionary, and then run nested loop for both the lists and assign key and value pairs to from list values to dictionary.\n",
        "\n",
        "Most pythonic and generic method to perform this very task is by using zip(). This function pairs the list element with other list element at corresponding index in form of key-value pairs."
      ]
    },
    {
      "cell_type": "markdown",
      "metadata": {
        "id": "_HZHukbIeCOA"
      },
      "source": [
        ""
      ]
    },
    {
      "cell_type": "code",
      "metadata": {
        "colab": {
          "base_uri": "https://localhost:8080/"
        },
        "id": "cUyLY6p_vxfG",
        "outputId": "ba7a0ed8-8a00-49cc-9754-56fdb05a5dab"
      },
      "source": [
        "subj=[\"DAA\",\"OS\", \"DBMS\", \" P&S\", \"PPL\", \" SE\"]\n",
        "marks=[85,96,78,68,98,56]\n",
        " \n",
        "print(\"Given lists are:\") \n",
        "print(\"Subjects names:\",subj) \n",
        "print(\"Marks values:\",marks) \n",
        " \n",
        "dic=dict(zip(subj, marks)) \n",
        "print(\"\\n Dictionary:\",dic)"
      ],
      "execution_count": null,
      "outputs": [
        {
          "output_type": "stream",
          "text": [
            "Given lists are:\n",
            "Subjects names: ['DAA', 'OS', 'DBMS', ' P&S', 'PPL', ' SE']\n",
            "Marks values: [85, 96, 78, 68, 98, 56]\n",
            "\n",
            " Dictionary: {'DAA': 85, 'OS': 96, 'DBMS': 78, ' P&S': 68, 'PPL': 98, ' SE': 56}\n"
          ],
          "name": "stdout"
        }
      ]
    },
    {
      "cell_type": "markdown",
      "metadata": {
        "id": "EDwdxOmmxvS-"
      },
      "source": [
        "6B) WRITE A PROGRAM TO COUNT FREQUENCY OF CHARACTERS IN A GIVEN FILE. CAN YOU USE CHARACTERFREQUENCY TO \n",
        "TELL WHETHER THE GIVEN FILE IS A PYTHON PROGRAM FILE, C PROGRAM FILE OR A TEXT FILE?"
      ]
    },
    {
      "cell_type": "markdown",
      "metadata": {
        "id": "S3EW51GHesmB"
      },
      "source": [
        "**AIM:**\n",
        "\n",
        "b) Write a program to count frequency of characters in a given file. Can you use characterfrequency to tell whether the given file is a Python program file, C program file or a text file?\n",
        "\n",
        "**DESCRIPTION:**\n",
        "\n",
        "approaches to count the number of times a letter appears in a text file in Python.\n",
        "\n",
        "Method 1: Using the in-built count() method.\n",
        "\n",
        "Approach:\n",
        "\n",
        "Read the file. Store the content of the file in a variable. Use the count() method with the argument as a letter whose frequency is required. Display the count of the letter."
      ]
    },
    {
      "cell_type": "code",
      "metadata": {
        "id": "TQhYyePg4hrG"
      },
      "source": [
        "filetypes=['.py','.c','.txt']\n",
        "fn=input(\"Enter the file name:\") \n",
        "f=open(fn,\"r\") \n",
        "count=dict() \n",
        " \n",
        "print(\" Given file is \",end=\" \") \n",
        "for ft in filetypes:\n",
        " if(ft in fn):\n",
        "  if(ft=='.py'):\n",
        "    print(\"Python File\") \n",
        "  elif(ft=='.c'):\n",
        "    print(\"C File\") \n",
        "  elif(ft=='.txt'):\n",
        "    print(\"Text File\") \n",
        "for line in f:\n",
        "  for ch in line:\n",
        "      if ch in count:\n",
        "        count[ch]=count[ch]+1\n",
        "      else:\n",
        "        count[ch]=1\n",
        "print(count) \n",
        "fclose()"
      ],
      "execution_count": null,
      "outputs": []
    },
    {
      "cell_type": "markdown",
      "metadata": {
        "id": "ieyNc5fHfCIM"
      },
      "source": [
        ""
      ]
    },
    {
      "cell_type": "markdown",
      "metadata": {
        "id": "Vbj_RFGoTlOP"
      },
      "source": [
        "** EXERCISE - 7**\n",
        "\n",
        "A) WRITE A PROGRAM TO PRINT EACH LINE OF A FILE IN REVERSE ORDER"
      ]
    },
    {
      "cell_type": "markdown",
      "metadata": {
        "id": "msI0I4MVfdnq"
      },
      "source": [
        "**AIM**\n",
        "\n",
        "a) Write a program to print each line of a file in reverse order.\n",
        "\n",
        "**DESCRIPTION:**\n",
        "\n",
        "The file handling plays an important role when the data needs to be stored permanently into the file. A file is a named location on disk to store related information. We can access the stored information (non-volatile) after the program termination. In Python, files are treated in two modes as text or binary. The file may be in the text or binary format, and each line of a file is ended with the special character. Hence, a file operation can be done in the following order.\n",
        "\n",
        " Open a file\n",
        "\n",
        " Read or write - Performing operation\n",
        "\n",
        " Close the file"
      ]
    },
    {
      "cell_type": "code",
      "metadata": {
        "id": "o04XubnvVxWZ"
      },
      "source": [
        "obj=open(\"abc.txt\",\"r\")\n",
        " \n",
        "if obj:\n",
        "    st=obj.read()\n",
        "    print(\"file content is:\\n\",st)\n",
        " \n",
        "obj.close()\n",
        " \n",
        "print()\n",
        "lines=st.split('\\n')\n",
        " \n",
        "for ln in lines:\n",
        "    i=len(ln)-1\n",
        "    while(i>=0):\n",
        "      print(ln[i],end=\" \")\n",
        "      i=i-1\n",
        "    print()"
      ],
      "execution_count": null,
      "outputs": []
    },
    {
      "cell_type": "markdown",
      "metadata": {
        "id": "Cb8ePe3qWV5p"
      },
      "source": [
        " \n",
        "7 \n",
        "B) WRITE A PROGRAM TO COMPUTE THE NUMBER OF CHARACTERS, WORDS AND LINES IN A FILE."
      ]
    },
    {
      "cell_type": "markdown",
      "metadata": {
        "id": "7F_bkCC-fn6_"
      },
      "source": [
        "**AIM:**\n",
        "\n",
        "b) Write a program to compute the number of characters, words and lines in a file\n",
        "\n",
        "**DESCRIPTION:**\n",
        "\n",
        "Given a text file fname, the task is to count the total number of characters, words, spaces and lines in the file.\n",
        "\n",
        "As we know, Python provides multiple in-built features and modules for handling files. Let’s discuss different ways to calculate total number of characters, words, spaces and lines in a file using Python.\n",
        "\n",
        "Method #1: Naive approach\n",
        "\n",
        "In this approach, the idea is to solve the task by developing our own logic. Without using any built-in function of Python, the total number of characters, words, spaces and lines of the file will be calculated.\n",
        "\n",
        "Method #2: Using some built-in functions and OS module functions\n",
        "\n",
        "In this approach, the idea is to use the os.linesep() method of OS module to separate the lines on the current platform. When the interpreter’s scanner encounter os.linesep it replaces it with \\n character. After that strip() and split() functions will be used to carry out the task.\n",
        "\n",
        "[ ]\n"
      ]
    },
    {
      "cell_type": "code",
      "metadata": {
        "id": "Hw8NK8U0WZhl"
      },
      "source": [
        "nc=nw=nl=0\n",
        "file=open(\"abc.txt\",\"r\") \n",
        " \n",
        "nl=nw=nc=0\n",
        "print(\"File content:\\n\")\n",
        "for line in file:\n",
        "  ln=line.strip(\"\\n\") \n",
        "  print(ln) \n",
        "  words=ln.split() \n",
        "  nl+=1\n",
        "  nw+=len(words) \n",
        "  nc+=len(line) \n",
        "file.close() \n",
        "print(\"\\nNo.of lines\",nl,\"Words\",nw,\"Characters\",nc)"
      ],
      "execution_count": null,
      "outputs": []
    },
    {
      "cell_type": "markdown",
      "metadata": {
        "id": "_7iyPLcUX8pz"
      },
      "source": [
        "** EXERCISE - 8** \n",
        " \n",
        "A) WRITE A FUNCTION BALL COLLIDE THAT TAKES TWO BALLS AS PARAMETERS AND COMPUTES IF THEY ARECOLLIDING. \n",
        "YOUR FUNCTION SHOULD RETURN A BOOLEAN REPRESENTING WHETHER OR NOT THE BALLS ARECOLLIDING."
      ]
    },
    {
      "cell_type": "markdown",
      "metadata": {
        "id": "ezYFCZVcgBhE"
      },
      "source": [
        "**AIM:**\n",
        "\n",
        "a) Write a function ball collide that takes two balls as parameters and computes if they arecolliding. Your function should return a Boolean representing whether or not the balls arecolliding.\n",
        "\n",
        "Hint: Represent a ball on a plane as a tuple of (x, y, r), r being the radius If (distance between two balls centers) <= (sum of their radii) then (they are colliding)\n",
        "\n",
        "**DESCRIPTION**\n",
        "\n",
        "Functions A function in python is a block of code that is defined for doing frequent operations in a particular task. The general format is\n",
        "\n",
        "def Functionname(arguments):\n",
        "\n",
        "Statements Calling a Function:\n",
        "\n",
        "A function can be called by its name followed by arguments within parenthesis.\n",
        "\n",
        "function()"
      ]
    },
    {
      "cell_type": "code",
      "metadata": {
        "colab": {
          "base_uri": "https://localhost:8080/"
        },
        "id": "CR7lQ1JLYluh",
        "outputId": "ec98994a-a53a-4cbb-e081-cb1b4e518893"
      },
      "source": [
        "import math\n",
        "def ballcollide(b1tup,b2tup):\n",
        "    x1=b1tup[0]\n",
        "    y1=b1tup[1]\n",
        "    x2=b2tup[0]\n",
        "    y2=b2tup[1]\n",
        "    r1=b1tup[2]\n",
        "    r2=b2tup[2]\n",
        " \n",
        " \n",
        "    d=math.sqrt((x2-x1)**2+(y2-y1)**2)\n",
        "    if(d<=r1+r2):\n",
        "      return True\n",
        "    else:\n",
        "        return False\n",
        " \n",
        " \n",
        "ball1=(1,2,3)\n",
        "ball2=(3,2,1)\n",
        "c=ballcollide(ball1,ball2)\n",
        "if(c):\n",
        "    print(\"balls are collided\")\n",
        "else:\n",
        "    print(\"ball are not collided\")"
      ],
      "execution_count": null,
      "outputs": [
        {
          "output_type": "stream",
          "text": [
            "balls are collided\n"
          ],
          "name": "stdout"
        }
      ]
    },
    {
      "cell_type": "markdown",
      "metadata": {
        "id": "XXaKNPUNY5Jl"
      },
      "source": [
        " 8B) FIND MEAN, MEDIAN, MODE FOR THE GIVEN SET OF NUMBERS IN A LIST."
      ]
    },
    {
      "cell_type": "markdown",
      "metadata": {
        "id": "WHTsqcMYgIt7"
      },
      "source": [
        "**AIM:**\n",
        "\n",
        "To Find mean, median, mode for the given set of numbers in a list\n",
        "\n",
        "**DESCRIPTION**\n",
        "\n",
        "**Mean :** The mean is the average of all numbers and is sometimes called the arithmetic mean. This code calculates Mean or Average of a list containing numbers:\n",
        "\n",
        "**Median** : The median is the middle number in a group of numbers. This code calculates Median of a list containing numbers:\n",
        "\n",
        "**Mode :** The mode is the number that occurs most often within a set of numbers. This code calculates Mode of a list containing numbers:\n",
        "\n",
        "We will import Counter from collections library which is a built-in module in Python 2 and 3. This module will help us count duplicate elements in a list. We define a list of numbers and calculate the length of the list. We then call Counter (a dict subclass) which helps to count hashable objects, and we then convert it to dict object. We then initialize a list with a For Loop to compare all the dict values (Number of elements) to the max of all dict values (count of most occurring element) and it returns all the elements equal to max count. If the elements returned are equal to the number of total elements in a list then we print out ‘No mode’, else we print out the modes returned."
      ]
    },
    {
      "cell_type": "code",
      "metadata": {
        "id": "wnWQYZz7Y9bq",
        "colab": {
          "base_uri": "https://localhost:8080/"
        },
        "outputId": "467b1672-fb10-4c08-86cc-b3e15a144453"
      },
      "source": [
        "def list_mean(num_list):\n",
        "    return sum(num_list)/len(num_list)\n",
        " \n",
        "def list_median(num_list):\n",
        "    num_list.sort()\n",
        " \n",
        "    n=len(num_list)\n",
        "    mid=n//2\n",
        " \n",
        "    if(n%2==1):\n",
        "       return num_list[mid]\n",
        "    else:\n",
        "       mid\n",
        "       return (num_list[mid-1]+num_list[mid])/2\n",
        " \n",
        "def list_mode(num_list):\n",
        "    num_list.sort()\n",
        "    temp=[]\n",
        " \n",
        "    i=0\n",
        "    while i<len(num_list):\n",
        "       temp.append(num_list.count(num_list[i]))\n",
        "       i+=1\n",
        " \n",
        "    dic=dict(zip(num_list,temp))\n",
        "    mode={k for(k,v)in dic.items() if v==max(temp)}\n",
        "    return mode\n",
        " \n",
        "list=[1,1,2,2,2,3,4,5,3]\n",
        " \n",
        "print(\"Given list is:\",list) \n",
        "print(\"mean of given list:\",list_mean(list))\n",
        "print(\"median of given list:\",list_median(list))\n",
        "print(\"mode of guive list:\",list_mode(list))"
      ],
      "execution_count": null,
      "outputs": [
        {
          "output_type": "stream",
          "name": "stdout",
          "text": [
            "Given list is: [1, 1, 2, 2, 2, 3, 4, 5, 3]\n",
            "mean of given list: 2.5555555555555554\n",
            "median of given list: 2\n",
            "mode of guive list: {2}\n"
          ]
        }
      ]
    },
    {
      "cell_type": "markdown",
      "metadata": {
        "id": "vUq7U80bbWEl"
      },
      "source": [
        "**EXERCISE - 9**\n",
        " \n",
        "A) WRITE A FUNCTION NEARLY EQUAL TO TEST WHETHER TWO STRINGS ARE NEARLY EQUAL. TWO STRINGS A AND BARE \n",
        "NEARLY EQUAL WHEN A CAN BE GENERATED BY A SINGLE MUTATION ON B."
      ]
    },
    {
      "cell_type": "markdown",
      "metadata": {
        "id": "Wqctw84Zgldu"
      },
      "source": [
        "**AIM:**\n",
        "\n",
        "a) Write a function nearly equal to test whether two strings are nearly\n",
        "\n",
        "**DESCRIPTION:**\n",
        "\n",
        "strlen() function is used to check wether the two string are nearly equal or not by basis of the Length of those Strings\n",
        "\n",
        "len(bold text) function is an inbuilt function in Python programming language that returns the length of the string.\n",
        "\n",
        "len() is a built-in function in python.You can use the len() to get the length of the given string, array, list, tuple, dictionary, etc.\n",
        "\n",
        "Value: the given value you want the length of.\n",
        "\n",
        "Return value a return an integer value i.e. the length of the given string, or array, or list, or collections.\n",
        "\n",
        "Syntax:\n",
        "\n",
        "len(string)"
      ]
    },
    {
      "cell_type": "code",
      "metadata": {
        "colab": {
          "base_uri": "https://localhost:8080/"
        },
        "id": "UmcRKYy4bdAw",
        "outputId": "9e573c4b-2c17-45fc-eddc-522dbcffc402"
      },
      "source": [
        " \n",
        "def nearly_eq(str1,str2):\n",
        "    count=0\n",
        "    i=j=0\n",
        "    ss=0\n",
        "    while(i<len(str1)and j<len(str2)):\n",
        "        if(str1[i]!=str2[j]):\n",
        "            count+=1\n",
        "        if(len(str1)>len(str2)):\n",
        "            i+=1\n",
        " \n",
        "        elif(len(str1)==len(str2)):\n",
        "            pass\n",
        "        else:\n",
        "            i-=1     \n",
        "        if(count>1):\n",
        "             ss-=1\n",
        "             \n",
        "        i+=1\n",
        "        j+=1\n",
        "        if(count<2):\n",
        "             ss+=1\n",
        " \n",
        "    return ss\n",
        "s1=input(\"enter a string 1:\")\n",
        "s2=input(\"enter the string2:\")\n",
        "t=nearly_eq(s1,s2)\n",
        "if(t>1):\n",
        "    print(\"neraly equal0\")\n",
        "else:\n",
        "    print(\"not nearly equal\")"
      ],
      "execution_count": null,
      "outputs": [
        {
          "output_type": "stream",
          "text": [
            "enter a string 1:Neelu\n",
            "enter the string2:Neelu\n",
            "neraly equal0\n"
          ],
          "name": "stdout"
        }
      ]
    },
    {
      "cell_type": "markdown",
      "metadata": {
        "id": "7TzCgpNAcQfv"
      },
      "source": [
        " 9B) WRITE A FUNCTION DUP TO FIND ALL DUPLICATES IN THE LIST."
      ]
    },
    {
      "cell_type": "markdown",
      "metadata": {
        "id": "yuSoOPxPg_qQ"
      },
      "source": [
        "**AIM:**\n",
        "\n",
        "To Write a function dup to find all duplicates in the list.\n",
        "\n",
        "**DESCRIPTION:** \n",
        "\n",
        "To check if a list contains any duplicate element follow the following steps,\n",
        "\n",
        "Add the contents of list in a set.\n",
        "\n",
        "As set contains only unique elements, so no duplicates will be added the the set. Compare the size of set and list.\n",
        "\n",
        " If size of list & set is equal then it means no duplicates in list.\n",
        "If size of list & set are different then it means yes, there are duplicates in list."
      ]
    },
    {
      "cell_type": "code",
      "metadata": {
        "colab": {
          "base_uri": "https://localhost:8080/"
        },
        "id": "zUQTgFXqcVzC",
        "outputId": "8541aea8-46de-45be-b722-02e628d68459"
      },
      "source": [
        "def dup(list):\n",
        "  list1=[]\n",
        "  for i in list:\n",
        "    count=list.count(i)\n",
        "    if(count>1 and (i not in list1)):\n",
        "        list1.append(i)\n",
        "        \n",
        "  print(\"the dups int he list are:\",list1)        \n",
        "list2=[1,2,1,2]\n",
        " \n",
        "dup(list2)"
      ],
      "execution_count": null,
      "outputs": [
        {
          "output_type": "stream",
          "text": [
            "the dups int he list are: [1, 2]\n"
          ],
          "name": "stdout"
        }
      ]
    },
    {
      "cell_type": "markdown",
      "metadata": {
        "id": "ij4jEAT7cpyB"
      },
      "source": [
        " 9C) WRITE A FUNCTION UNIQUE TO FIND ALL THE UNIQUE ELEMENTS OF A LIST."
      ]
    },
    {
      "cell_type": "markdown",
      "metadata": {
        "id": "jZndHr7ThP5t"
      },
      "source": [
        "**AIM:**\n",
        "\n",
        "To Write a function unique to find all the unique elements of a list.\n",
        "\n",
        "**DESCRIPTION:**\n",
        "\n",
        "To find the unique in the list .There is a Specific Method i.e.,\n",
        "\n",
        "Method : Traversal of list\n",
        "\n",
        "Using traversal, we can traverse for every element in the list and check if the element is in the unique_list already if it is not over there, then we can append it in the unique_list.\n",
        "\n",
        "This is done using one for loop and other if statement which check if the value is in the unique list or not which is equivalent to another for loop."
      ]
    },
    {
      "cell_type": "code",
      "metadata": {
        "colab": {
          "base_uri": "https://localhost:8080/"
        },
        "id": "PRXZmiMOcw09",
        "outputId": "a5755ba7-8b44-4b06-a832-cbee500a7f51"
      },
      "source": [
        "def unique(list1):\n",
        "  list2={}\n",
        " \n",
        "  for i in list1:\n",
        "    c=list1.count(i)\n",
        "    if c==1:\n",
        "      list2[i]=c\n",
        "  print(\"the unique elements in the list are:\",list2)\n",
        " \n",
        "list=[1,2,3,45,45,6,88,88,9]\n",
        "unique(list)"
      ],
      "execution_count": null,
      "outputs": [
        {
          "output_type": "stream",
          "text": [
            "the unique elements in the list are: {1: 1, 2: 1, 3: 1, 6: 1, 9: 1}\n"
          ],
          "name": "stdout"
        }
      ]
    },
    {
      "cell_type": "markdown",
      "metadata": {
        "id": "OuDJirPIdMwO"
      },
      "source": [
        "** EXERCISE - 10**\n",
        " \n",
        "A) WRITE A FUNCTION CUMULATIVE PRODUCT TO COMPUTE CUMULATIVE PRODUCT OF A LIST OF NUMBERS."
      ]
    },
    {
      "cell_type": "markdown",
      "metadata": {
        "id": "zfVm855mhdFa"
      },
      "source": [
        "**AIM:**\n",
        "\n",
        "a) Write a function cumulative product to compute cumulative product of a list of numbers.\n",
        "\n",
        "**DESCRIPTION**:\n",
        "\n",
        "A cumulative product is a sequence of partial products of a given sequence. For example, the cumulative products of the sequence. , are , , .. Cumulative products can be implemented in the Wolfram Language as Rest[FoldList[Times, 1, list]]\n",
        "\n",
        "cumprod(A,1) works on successive elements in the columns of A and returns the cumulative products of each column. cumprod(A,2) works on successive elements in the rows of A and returns the cumulative products of each row.\n",
        "\n",
        "umprod() function is used when we want to compute the cumulative product of array elements over a given axis. Syntax : numpy.cumprod(arr, axis=None, dtype=None, out=None) Parameters : arr : [array_like] Array containing numbers whose cumulative product is desired."
      ]
    },
    {
      "cell_type": "code",
      "metadata": {
        "id": "NkyanBdGdU5_",
        "colab": {
          "base_uri": "https://localhost:8080/"
        },
        "outputId": "3bf90557-b4a1-4055-9228-3983a64e2e6d"
      },
      "source": [
        "def cum_prod(numlist):   \n",
        "    prod=1\n",
        "    temp=[]\n",
        "    for i in numlist:\n",
        "       prod*=i\n",
        "       temp.append(prod) \n",
        "    return temp\n",
        " \n",
        "list=[1,2,4,5,3]\n",
        "print(\"Given list is:\",list) \n",
        "print(\"Cumulative product list is:\",cum_prod(list))"
      ],
      "execution_count": null,
      "outputs": [
        {
          "output_type": "stream",
          "text": [
            "Given list is: [1, 2, 4, 5, 3]\n",
            "Cumulative product list is: [1, 2, 8, 40, 120]\n"
          ],
          "name": "stdout"
        }
      ]
    },
    {
      "cell_type": "markdown",
      "metadata": {
        "id": "ahbDnU5pev2F"
      },
      "source": [
        " 10B) WRITE A FUNCTION REVERSE TO REVERSE A LIST. WITHOUT USING THE REVERSE FUNCTION"
      ]
    },
    {
      "cell_type": "markdown",
      "metadata": {
        "id": "x9Aox7e6hyPs"
      },
      "source": [
        "**AIM:**\n",
        "\n",
        "b) Write a function reverse to reverse a list. Without using the reverse function.\n",
        "\n",
        "**DESCRIPTION:**\n",
        "\n",
        "In this Python code snippet post, we are going to implement a list reverse function from the scratch without using any builtin functions.\n",
        "\n",
        "Let us see how…\n",
        "\n",
        "Iterative solution\n",
        "\n",
        "We can use a for loop to swap the first and last items, the second and the one before the last item and so on until the list is reversed in place. The number of iterations needed is half the list size. If the list has an odd number of items then the middle item will stay in its place."
      ]
    },
    {
      "cell_type": "code",
      "metadata": {
        "colab": {
          "base_uri": "https://localhost:8080/"
        },
        "id": "DcvRhmiVe0_J",
        "outputId": "914791f6-80c0-45b8-e859-ffb565259f5d"
      },
      "source": [
        "def reverse_list(numlist):\n",
        "    temp=list1[::-1]\n",
        "    numlist=temp\n",
        "    return temp\n",
        "list1=[1,2,3,4]\n",
        "print(\"given list is :\",list1)\n",
        "print(\"after reverse function:\",reverse_list(list1))\n",
        "print(\"after list is:\",list1)"
      ],
      "execution_count": null,
      "outputs": [
        {
          "output_type": "stream",
          "text": [
            "given list is : [1, 2, 3, 4]\n",
            "after reverse function: [4, 3, 2, 1]\n",
            "after list is: [1, 2, 3, 4]\n"
          ],
          "name": "stdout"
        }
      ]
    },
    {
      "cell_type": "markdown",
      "metadata": {
        "id": "-VFIHJRwfC5k"
      },
      "source": [
        " 10C) WRITE FUNCTION TO COMPUTE GCD, LCM OF TWO NUMBERS. EACH FUNCTION SHOULDN’T EXCEED ONE LINE."
      ]
    },
    {
      "cell_type": "markdown",
      "metadata": {
        "id": "aLwhP5Omh7XJ"
      },
      "source": [
        "**AIM:**\n",
        "\n",
        "To Write function to compute gcd, lcm of two numbers. Each function shouldn’t exceed one line.\n",
        "\n",
        "**DESCRIPTION:** bold text Python provides you an anonymous function called lambda. It can take any number of arguments, but can only have one expression. It can be used to find LCM and GCD values without exceeding each from from one line.\n",
        "\n",
        "The general format is\n",
        "\n",
        "lambda arguments: expression\n",
        "\n",
        "The expression is executed during the function call and the result is returned.\n",
        "\n",
        "Lambda as a Function\n",
        "\n",
        "The power of using a lambda expression is implementing it using a function"
      ]
    },
    {
      "cell_type": "code",
      "metadata": {
        "colab": {
          "base_uri": "https://localhost:8080/"
        },
        "id": "HXxP82v1fH4J",
        "outputId": "62d8d185-f465-4a3d-e18c-aef5e3109411"
      },
      "source": [
        "gcd=lambda a,b: a if b==0 else gcd(a,a%b)\n",
        "lcm=lambda a,b: (a*b)/gcd(a,b)\n",
        " \n",
        "x=4\n",
        "y=24\n",
        "print(\"gcd=\",gcd(x,y))\n",
        "print(\"lcm=\",lcm(x,y))"
      ],
      "execution_count": null,
      "outputs": [
        {
          "output_type": "stream",
          "text": [
            "gcd= 4\n",
            "lcm= 24.0\n"
          ],
          "name": "stdout"
        }
      ]
    },
    {
      "cell_type": "markdown",
      "metadata": {
        "id": "PfaCE7HgCWws"
      },
      "source": [
        "**EXERCISE-11**\n",
        "\n",
        "A) WRITE A PROGRAM THAT DEFINES A MATRIX AND PRINTS"
      ]
    },
    {
      "cell_type": "markdown",
      "metadata": {
        "id": "VUvQyRKciHeG"
      },
      "source": [
        "**AIM:**\n",
        "\n",
        "a) Write a program that defines a matrix and prints\n",
        "\n",
        "**DESCRIPTION:**\n",
        "\n",
        "Lists are a very widely use data structure in python. They contain a list of elements separated by comma. But sometimes lists can also contain lists within them. These are called nested lists or multidimensional lists. In this article we will see how to create and access elements in a multidimensional list.\n",
        "\n",
        "Methods on Multidimensional lists\n",
        "\n",
        "append(): Adds an element at the end of the list.\n",
        "\n",
        "extend(): Add the elements of a list (or any iterable), to the end of the current list.\n",
        "\n",
        "reverse(): Reverses the order of the list."
      ]
    },
    {
      "cell_type": "code",
      "metadata": {
        "id": "ArL8qg3NC6mX",
        "colab": {
          "base_uri": "https://localhost:8080/"
        },
        "outputId": "8aedd438-61af-4a09-a1b1-47bce0fdef46"
      },
      "source": [
        "matA=[[]]\n",
        "rows=int(input(\"Enter row size of matrix:\"))\n",
        "cols=int(input(\"Enter column size of matrix\"))\n",
        " \n",
        "matA=[[int(input(\"Enter [%d,%d] value:\"%(i,j)))for j in range(cols)]for i in range(rows)]\n",
        " \n",
        "print(\"Matrix is:\") \n",
        "for i in range(rows):\n",
        "  for j in range(cols):\n",
        "    print(matA[i][j],end='\\t') \n",
        "  print()"
      ],
      "execution_count": null,
      "outputs": [
        {
          "output_type": "stream",
          "text": [
            "Enter row size of matrix:3\n",
            "Enter column size of matrix2\n",
            "Enter [0,0] value:7\n",
            "Enter [0,1] value:2\n",
            "Enter [1,0] value:1\n",
            "Enter [1,1] value:6\n",
            "Enter [2,0] value:3\n",
            "Enter [2,1] value:5\n",
            "Matrix is:\n",
            "7\t2\t\n",
            "1\t6\t\n",
            "3\t5\t\n"
          ],
          "name": "stdout"
        }
      ]
    },
    {
      "cell_type": "markdown",
      "metadata": {
        "id": "wb3prRPiup-6"
      },
      "source": [
        " 11B) WRITE A PROGRAM TO PERFORM ADDITION OF TWO SQUARE MATRICES"
      ]
    },
    {
      "cell_type": "markdown",
      "metadata": {
        "id": "G59Y6GP_iOT4"
      },
      "source": [
        "**AIM:**\n",
        "\n",
        "b) Write a program to perform addition of two square matrices\n",
        "\n",
        "**DESCRIPTION:**\n",
        "\n",
        "We can perform matrix addition in following ways in Python.\n",
        "\n",
        "Using for loop: Explanation :- In this program we have used nested for loops to iterate through each row and each column. At each point we add the corresponding elements in the two matrices and store it in the result.\n",
        "\n",
        "Using nested list comprehension :\n",
        "\n",
        "In Python, we can implement a matrix as nested list (list inside a list). We can treat each element as a row of the matrix.\n",
        "\n",
        "Explanation :-\n",
        "\n",
        "The output of this program is the same as above. We have used nested list comprehension to iterate through each element in the matrix. List comprehension allows us to write concise codes and we must try to use them frequently in Python. They are very helpful.\n",
        "\n",
        "uising zip function Explanation :\n",
        "\n",
        "The zip function accepts iterator i of each element(list) of matrix, mapping them, adding them using sum() and storing them in the map form."
      ]
    },
    {
      "cell_type": "code",
      "metadata": {
        "colab": {
          "base_uri": "https://localhost:8080/"
        },
        "id": "OBEAHkSgvI_R",
        "outputId": "6c197fc1-4c11-4c4f-813c-c27b5516d3c9"
      },
      "source": [
        "def matRead(r,c):\n",
        "  return[[int(input(\" [%d,%d] value:\"%(i,j)))for j in range(c)]for i in range(r)]\n",
        " \n",
        "def matDisp(mat,r,c):\n",
        "  for i in range(r):\n",
        "    for j in range(c):\n",
        "      print(mat[i][j],end='\\t')\n",
        "    print() \n",
        " \n",
        "matA=[[]]\n",
        "matB=[[]]\n",
        "matSum=[[]]\n",
        "rows=int(input(\"Enter row size of the matrix\")) \n",
        "cols=int(input(\"Enter column size of the matrix\")) \n",
        " \n",
        "if rows==cols:\n",
        "  print(\"Enter Matrix-A elements:\") \n",
        "  matA=matRead(rows,cols) \n",
        " \n",
        "  print(\"Enter Matrix-B elements:\") \n",
        "  matB=matRead(rows,cols)\n",
        " \n",
        "  print(\"Matrix-A is:\") \n",
        "  matDisp(matA,rows,cols) \n",
        " \n",
        "  print(\"Matrix-B is:\") \n",
        "  matDisp(matB,rows,cols) \n",
        " \n",
        "  matSum=[[matA[i][j]+matB[i][j] for j in range(cols)]for i in range(rows)]\n",
        "  print(\"Sum of matrices:\") \n",
        "  matDisp(matSum,rows,cols) \n",
        "else:\n",
        "  print(\"Matrices addition is Not possible\")"
      ],
      "execution_count": null,
      "outputs": [
        {
          "output_type": "stream",
          "text": [
            "Enter row size of the matrix2\n",
            "Enter column size of the matrix2\n",
            "Enter Matrix-A elements:\n",
            " [0,0] value:1\n",
            " [0,1] value:2\n",
            " [1,0] value:3\n",
            " [1,1] value:4\n",
            "Enter Matrix-B elements:\n",
            " [0,0] value:9\n",
            " [0,1] value:6\n",
            " [1,0] value:5\n",
            " [1,1] value:4\n",
            "Matrix-A is:\n",
            "1\t2\t\n",
            "3\t4\t\n",
            "Matrix-B is:\n",
            "9\t6\t\n",
            "5\t4\t\n",
            "Sum of matrices:\n",
            "10\t8\t\n",
            "8\t8\t\n"
          ],
          "name": "stdout"
        }
      ]
    },
    {
      "cell_type": "markdown",
      "metadata": {
        "id": "WmrfL_DD1g-o"
      },
      "source": [
        "11.C) WRITE A PROGRAM TO PERFORM MULTIPLICATION OF TWO SQUARE MATRICES"
      ]
    },
    {
      "cell_type": "markdown",
      "metadata": {
        "id": "Yt_p2CTNiWIj"
      },
      "source": [
        "**AIM:**\n",
        "\n",
        "c) Write a program to perform multiplication of two square\n",
        "\n",
        "**DESCRIPTION:**\n",
        "\n",
        "In Python, we can implement a matrix as nested list (list inside a list).\n",
        "\n",
        "We can treat each element as a row of the matrix.\n",
        "\n",
        "For example X = [[1, 2], [4, 5], [3, 6]] would represent a 3x2 matrix.\n",
        "\n",
        "The first row can be selected as X[0]. And, the element in first row, first column can be selected as X[0][0].\n",
        "\n",
        "Multiplication of two matrices X and Y is defined only if the number of columns in X is equal to the number of rows Y.\n",
        "\n",
        "If X is a n x m matrix and Y is a m x l matrix then, XY is defined and has the dimension n x l (but YX is not defined). Here are a couple of ways to implement matrix multiplication in Python."
      ]
    },
    {
      "cell_type": "code",
      "metadata": {
        "colab": {
          "base_uri": "https://localhost:8080/"
        },
        "id": "wzbTN_f-2FCQ",
        "outputId": "d1997b27-8f52-483e-8872-251c63e8fa67"
      },
      "source": [
        "def matRead(r,c):\n",
        "  return[[int(input(\" [%d,%d] value:\"%(i,j)))for j in range(c)]for i in range(r)]\n",
        " \n",
        "def matDisp(mat,r,c):\n",
        "  for i in range(r):\n",
        "    for j in range(c):\n",
        "      print(mat[i][j],end='\\t')\n",
        "    print() \n",
        " \n",
        "matA=[[]]\n",
        "matB=[[]]\n",
        "matMul=[[]]\n",
        "rows=int(input(\"Enter row size of the matrix\")) \n",
        "cols=int(input(\"Enter column size of the matrix\")) \n",
        " \n",
        "if rows==cols:\n",
        "  print(\"Enter Matrix-A elements:\") \n",
        "  matA=matRead(rows,cols) \n",
        " \n",
        "  print(\"Enter Matrix-B elements:\") \n",
        "  matB=matRead(rows,cols)\n",
        " \n",
        "  matMul=[[0 for j in range(cols)]for i in range(rows)]\n",
        " \n",
        "  for i in range(rows):\n",
        "    for j in range(cols):\n",
        "       for k in range(cols):\n",
        "          matMul[i][j]+=matA[i][k]*matB[k][j]\n",
        " \n",
        "  print(\"Matrix-A is:\") \n",
        "  matDisp(matA,rows,cols) \n",
        " \n",
        "  print(\"Matrix-B is:\") \n",
        "  matDisp(matB,rows,cols) \n",
        " \n",
        "  print(\"Multiplication of matrices is:\") \n",
        "  matDisp(matMul,rows,cols) \n",
        "else:\n",
        "  print(\"Matrices Multiplication is Not possible\")"
      ],
      "execution_count": null,
      "outputs": [
        {
          "output_type": "stream",
          "text": [
            "Enter row size of the matrix2\n",
            "Enter column size of the matrix2\n",
            "Enter Matrix-A elements:\n",
            " [0,0] value:2\n",
            " [0,1] value:3\n",
            " [1,0] value:5\n",
            " [1,1] value:6\n",
            "Enter Matrix-B elements:\n",
            " [0,0] value:1\n",
            " [0,1] value:2\n",
            " [1,0] value:3\n",
            " [1,1] value:4\n",
            "Matrix-A is:\n",
            "2\t3\t\n",
            "5\t6\t\n",
            "Matrix-B is:\n",
            "1\t2\t\n",
            "3\t4\t\n",
            "Multiplication of matrices is:\n",
            "11\t16\t\n",
            "23\t34\t\n"
          ],
          "name": "stdout"
        }
      ]
    },
    {
      "cell_type": "markdown",
      "metadata": {
        "id": "qp-nRRrJY7Vm"
      },
      "source": [
        " EXERCISE 12- MODULES\n",
        " \n",
        "A) INSTALL PACKAGES REQUESTS, FLASK AND EXPLORE THEM. USING (PIP)."
      ]
    },
    {
      "cell_type": "markdown",
      "metadata": {
        "id": "QtKoXMS7ieBL"
      },
      "source": [
        "**AIM:**\n",
        "\n",
        "a) Install packages requests,flask and explore them using(pip)\n",
        "\n",
        "**DESCRIPTION:**\n",
        "\n",
        "Installing the pip Python package manager on Windows If you are on Windows, and your installed Python the current version, you already have pip! If your Python installation is not the most recent, the easiest thing to do is to simply reinstall it. Download the Python Windows installer at https://www.python.org/downloads/.\n",
        "\n",
        "In Windows, the variable that controls which programs are accessible from the command line is path. To modify your path to include Python and pip, we have to add C:\\Python27 and C:\\Python27\\Tools. Edit the Windows path by opening the Windows menu, right-clicking on Computer and clicking on Properties. Under Advanced system settings, click Environment Variables.... Scroll down until you find Path, double-click it, and add ;C:\\Python27;C:\\Python27\\Tools to the end.\n",
        "\n",
        "Installing packages:\n",
        "\n",
        "Suppose you want to install a package called requests (which is used to make HTTP requests). You need to issue the following command.\n",
        "\n",
        "pip install requests\n",
        "\n",
        "show installed packages\n",
        "\n",
        "You can use the following command to get information about a installed package, i.e Package name, version, location, dependencies.\n",
        "\n",
        "pip show package_name\n",
        "\n",
        "install flask\n",
        "\n",
        "On Mac and Linux, because you are installing programs outside the user-owned folders, you might have to prepend sudo to the install commands. To install Flask, simply run this:\n",
        "\n",
        "$ pip install flask\n",
        "\n",
        "show installed flask\n",
        "\n",
        "You can use the following command to get information about a installed flask, i.e Package name, version, location, dependencies\n",
        "\n",
        "$ pip show flask\n",
        "\n",
        "PROGRAM:"
      ]
    },
    {
      "cell_type": "code",
      "metadata": {
        "colab": {
          "base_uri": "https://localhost:8080/"
        },
        "id": "3sMohMKiJhhP",
        "outputId": "cc2cb0b7-760c-4364-dbbf-d6b8b0a33512"
      },
      "source": [
        "pip install requests flask"
      ],
      "execution_count": null,
      "outputs": [
        {
          "output_type": "stream",
          "text": [
            "Requirement already satisfied: requests in /usr/local/lib/python3.7/dist-packages (2.23.0)\n",
            "Requirement already satisfied: flask in /usr/local/lib/python3.7/dist-packages (1.1.4)\n",
            "Requirement already satisfied: chardet<4,>=3.0.2 in /usr/local/lib/python3.7/dist-packages (from requests) (3.0.4)\n",
            "Requirement already satisfied: certifi>=2017.4.17 in /usr/local/lib/python3.7/dist-packages (from requests) (2021.5.30)\n",
            "Requirement already satisfied: urllib3!=1.25.0,!=1.25.1,<1.26,>=1.21.1 in /usr/local/lib/python3.7/dist-packages (from requests) (1.24.3)\n",
            "Requirement already satisfied: idna<3,>=2.5 in /usr/local/lib/python3.7/dist-packages (from requests) (2.10)\n",
            "Requirement already satisfied: Jinja2<3.0,>=2.10.1 in /usr/local/lib/python3.7/dist-packages (from flask) (2.11.3)\n",
            "Requirement already satisfied: Werkzeug<2.0,>=0.15 in /usr/local/lib/python3.7/dist-packages (from flask) (1.0.1)\n",
            "Requirement already satisfied: click<8.0,>=5.1 in /usr/local/lib/python3.7/dist-packages (from flask) (7.1.2)\n",
            "Requirement already satisfied: itsdangerous<2.0,>=0.24 in /usr/local/lib/python3.7/dist-packages (from flask) (1.1.0)\n",
            "Requirement already satisfied: MarkupSafe>=0.23 in /usr/local/lib/python3.7/dist-packages (from Jinja2<3.0,>=2.10.1->flask) (2.0.1)\n"
          ],
          "name": "stdout"
        }
      ]
    },
    {
      "cell_type": "code",
      "metadata": {
        "colab": {
          "base_uri": "https://localhost:8080/"
        },
        "id": "11KPOi_sJohX",
        "outputId": "48506f3c-958d-48b2-e5da-4565c5037ded"
      },
      "source": [
        "pip show requests"
      ],
      "execution_count": null,
      "outputs": [
        {
          "output_type": "stream",
          "text": [
            "Name: requests\n",
            "Version: 2.23.0\n",
            "Summary: Python HTTP for Humans.\n",
            "Home-page: https://requests.readthedocs.io\n",
            "Author: Kenneth Reitz\n",
            "Author-email: me@kennethreitz.org\n",
            "License: Apache 2.0\n",
            "Location: /usr/local/lib/python3.7/dist-packages\n",
            "Requires: chardet, certifi, idna, urllib3\n",
            "Required-by: tweepy, torchtext, tensorflow-datasets, tensorboard, Sphinx, spacy, requests-oauthlib, pymystem3, pooch, panel, pandas-datareader, kaggle, gspread, google-colab, google-api-core, gdown, folium, fix-yahoo-finance, fastai, coveralls, community, CacheControl\n"
          ],
          "name": "stdout"
        }
      ]
    },
    {
      "cell_type": "code",
      "metadata": {
        "colab": {
          "base_uri": "https://localhost:8080/"
        },
        "id": "uP0Mkr8BJv0p",
        "outputId": "b19774b1-4502-4c4e-fe68-82ca55a1ffda"
      },
      "source": [
        "pip show flask"
      ],
      "execution_count": null,
      "outputs": [
        {
          "output_type": "stream",
          "text": [
            "Name: Flask\n",
            "Version: 1.1.4\n",
            "Summary: A simple framework for building complex web applications.\n",
            "Home-page: https://palletsprojects.com/p/flask/\n",
            "Author: Armin Ronacher\n",
            "Author-email: armin.ronacher@active-4.com\n",
            "License: BSD-3-Clause\n",
            "Location: /usr/local/lib/python3.7/dist-packages\n",
            "Requires: Jinja2, click, Werkzeug, itsdangerous\n",
            "Required-by: community\n"
          ],
          "name": "stdout"
        }
      ]
    },
    {
      "cell_type": "markdown",
      "metadata": {
        "id": "ZXqxsz09J8uZ"
      },
      "source": [
        "B) WRITE A SCRIPT THAT IMPORTS REQUESTS AND FETCH CONTENT FROM THE PAGE. EG. (WIKI)"
      ]
    },
    {
      "cell_type": "markdown",
      "metadata": {
        "id": "SeG0bc-vi3-L"
      },
      "source": [
        "**AIM:**\n",
        "\n",
        "b) Write a scripts that imports requests and fetch content from the page.Eg. (Wiki)code:\n",
        "\n",
        "**DESCRIPTION:**\n",
        "\n",
        "The Hypertext Transfer Protocol (HTTP) is an application protocol for distributed, collaborative, hypermedia information systems. HTTP is the foundation of data communication for the World Wide Web.\n",
        "\n",
        "Python requests\n",
        "\n",
        "Requests is a simple and elegant Python HTTP library. It provides methods for accessing Web resources via HTTP.\n",
        "\n",
        "Python requests reading a web page\n",
        "\n",
        "The get() method issues a GET request; it fetches documents identified by the given URL.\n",
        "\n",
        "PROGRAM:"
      ]
    },
    {
      "cell_type": "code",
      "metadata": {
        "colab": {
          "base_uri": "https://localhost:8080/"
        },
        "id": "r26votUVKCuH",
        "outputId": "8cc4f789-8cd1-420f-ffdd-949810c1acca"
      },
      "source": [
        "# In using-requests.py\n",
        " \n",
        "import requests\n",
        " \n",
        "url = 'https://www.google.com'\n",
        "response = requests.get(url)\n",
        "print(f'Response returned: {response.status_code}, {response.reason}')\n",
        "print(response.text)"
      ],
      "execution_count": null,
      "outputs": [
        {
          "output_type": "stream",
          "text": [
            "Response returned: 200, OK\n",
            "<!doctype html><html itemscope=\"\" itemtype=\"http://schema.org/WebPage\" lang=\"en\"><head><meta content=\"Search the world's information, including webpages, images, videos and more. Google has many special features to help you find exactly what you're looking for.\" name=\"description\"><meta content=\"noodp\" name=\"robots\"><meta content=\"text/html; charset=UTF-8\" http-equiv=\"Content-Type\"><meta content=\"/images/branding/googleg/1x/googleg_standard_color_128dp.png\" itemprop=\"image\"><title>Google</title><script nonce=\"Pc0oqgoJq8Q4mXcKmGR4PQ==\">(function(){window.google={kEI:'oIv1YJyDK4v-9AOcxKs4',kEXPI:'0,772215,1,530320,56873,954,5105,206,4804,925,1391,383,246,5,1354,4936,314,1122516,1197709,182,391,110,328875,51224,16114,17444,11240,17572,4859,1361,9290,3026,2818,14765,4020,978,13228,2677,1170,10622,1142,6290,7096,4517,2777,921,5079,1593,1279,2212,530,149,1103,840,1983,4314,3514,606,2023,1733,43,521,14670,3227,1990,855,7,5599,6755,5096,7876,3748,1289,1483,1371,553,908,2,941,2614,12710,432,3,346,1244,1,5444,149,11323,2652,4,1528,2304,1236,5226,577,74,1983,2626,2015,4067,7434,2110,1714,3050,2658,4242,3114,31,5664,7964,2305,638,37,1457,5586,3772,5993,770,665,5821,2536,4094,17,3122,5,613,295,3,3541,1,5349,9361,1,1813,283,38,874,5992,2465,8154,1728,179,2,1394,756,769,8,1,1272,1715,2,3057,483,2055,1,2,2,3612,627,4,32,4,2237,2,3148,4,683,442,342,254,56,4,434,2377,93,30,520,1780,1275,1076,3502,2050,1647,171,2738,2,2265,532,15,3,310,55,675,75,1085,1269,17,3408,3,1331,381,290,177,1265,32,725,182,1343,1,230,1145,3452,2,254,2,291,2,542,3,123,24,4581,745,13,1447,87,2367,1,12,3,1,704,585,240,224,1897,640,1,8,82,1,8,24,1744,440,118,394,1996,5,126,132,767,1509,34,75,316,471,84,57,268,129,434,332,18,39,101,190,141,474,367,843,279,341,8,6,2,1371,1067,714,3,1172,1371,360,108,71,1474,1,34,28,576,1088,533,1343,2,5611682,190,4,32,220,58,5996810,2800697,882,444,1,2,80,1,1796,1,9,2,2551,1,748,141,795,563,1,4265,1,1,2,1331,3299,843,2609,155,17,13,72,139,4,2,20,2,169,13,19,46,5,39,96,548,29,2,2,1,2,1,2,2,7,4,1,2,2,2,2,2,2,312,41,513,186,1,1,158,3,2,2,2,2,2,4,2,3,3,233,36,21,1874750,21780086,299866,2866027,1146349,28975,338,3,1454,886,74,906,7,1873,262',kBL:'01HL'};google.sn='webhp';google.kHL='en';})();(function(){\n",
            "var f=this||self;var h,k=[];function l(a){for(var b;a&&(!a.getAttribute||!(b=a.getAttribute(\"eid\")));)a=a.parentNode;return b||h}function m(a){for(var b=null;a&&(!a.getAttribute||!(b=a.getAttribute(\"leid\")));)a=a.parentNode;return b}\n",
            "function n(a,b,c,d,g){var e=\"\";c||-1!==b.search(\"&ei=\")||(e=\"&ei=\"+l(d),-1===b.search(\"&lei=\")&&(d=m(d))&&(e+=\"&lei=\"+d));d=\"\";!c&&f._cshid&&-1===b.search(\"&cshid=\")&&\"slh\"!==a&&(d=\"&cshid=\"+f._cshid);c=c||\"/\"+(g||\"gen_204\")+\"?atyp=i&ct=\"+a+\"&cad=\"+b+e+\"&zx=\"+Date.now()+d;/^http:/i.test(c)&&\"https:\"===window.location.protocol&&(google.ml&&google.ml(Error(\"a\"),!1,{src:c,glmm:1}),c=\"\");return c};h=google.kEI;google.getEI=l;google.getLEI=m;google.ml=function(){return null};google.log=function(a,b,c,d,g){if(c=n(a,b,c,d,g)){a=new Image;var e=k.length;k[e]=a;a.onerror=a.onload=a.onabort=function(){delete k[e]};a.src=c}};google.logUrl=n;}).call(this);(function(){\n",
            "google.y={};google.sy=[];google.x=function(a,b){if(a)var c=a.id;else{do c=Math.random();while(google.y[c])}google.y[c]=[a,b];return!1};google.sx=function(a){google.sy.push(a)};google.lm=[];google.plm=function(a){google.lm.push.apply(google.lm,a)};google.lq=[];google.load=function(a,b,c){google.lq.push([[a],b,c])};google.loadAll=function(a,b){google.lq.push([a,b])};google.bx=!1;google.lx=function(){};}).call(this);google.f={};(function(){\n",
            "document.documentElement.addEventListener(\"submit\",function(b){var a;if(a=b.target){var c=a.getAttribute(\"data-submitfalse\");a=\"1\"==c||\"q\"==c&&!a.elements.q.value?!0:!1}else a=!1;a&&(b.preventDefault(),b.stopPropagation())},!0);document.documentElement.addEventListener(\"click\",function(b){var a;a:{for(a=b.target;a&&a!=document.documentElement;a=a.parentElement)if(\"A\"==a.tagName){a=\"1\"==a.getAttribute(\"data-nohref\");break a}a=!1}a&&b.preventDefault()},!0);}).call(this);</script><style>#gbar,#guser{font-size:13px;padding-top:1px !important;}#gbar{height:22px}#guser{padding-bottom:7px !important;text-align:right}.gbh,.gbd{border-top:1px solid #c9d7f1;font-size:1px}.gbh{height:0;position:absolute;top:24px;width:100%}@media all{.gb1{height:22px;margin-right:.5em;vertical-align:top}#gbar{float:left}}a.gb1,a.gb4{text-decoration:underline !important}a.gb1,a.gb4{color:#00c !important}.gbi .gb4{color:#dd8e27 !important}.gbf .gb4{color:#900 !important}\n",
            "</style><style>body,td,a,p,.h{font-family:arial,sans-serif}body{margin:0;overflow-y:scroll}#gog{padding:3px 8px 0}td{line-height:.8em}.gac_m td{line-height:17px}form{margin-bottom:20px}.h{color:#1558d6}em{font-weight:bold;font-style:normal}.lst{height:25px;width:496px}.gsfi,.lst{font:18px arial,sans-serif}.gsfs{font:17px arial,sans-serif}.ds{display:inline-box;display:inline-block;margin:3px 0 4px;margin-left:4px}input{font-family:inherit}body{background:#fff;color:#000}a{color:#4b11a8;text-decoration:none}a:hover,a:active{text-decoration:underline}.fl a{color:#1558d6}a:visited{color:#4b11a8}.sblc{padding-top:5px}.sblc a{display:block;margin:2px 0;margin-left:13px;font-size:11px}.lsbb{background:#f8f9fa;border:solid 1px;border-color:#dadce0 #70757a #70757a #dadce0;height:30px}.lsbb{display:block}#WqQANb a{display:inline-block;margin:0 12px}.lsb{background:url(/images/nav_logo229.png) 0 -261px repeat-x;border:none;color:#000;cursor:pointer;height:30px;margin:0;outline:0;font:15px arial,sans-serif;vertical-align:top}.lsb:active{background:#dadce0}.lst:focus{outline:none}</style><script nonce=\"Pc0oqgoJq8Q4mXcKmGR4PQ==\"></script></head><body bgcolor=\"#fff\"><script nonce=\"Pc0oqgoJq8Q4mXcKmGR4PQ==\">(function(){var src='/images/nav_logo229.png';var iesg=false;document.body.onload = function(){window.n && window.n();if (document.images){new Image().src=src;}\n",
            "if (!iesg){document.f&&document.f.q.focus();document.gbqf&&document.gbqf.q.focus();}\n",
            "}\n",
            "})();</script><div id=\"mngb\"><div id=gbar><nobr><b class=gb1>Search</b> <a class=gb1 href=\"https://www.google.com/imghp?hl=en&tab=wi\">Images</a> <a class=gb1 href=\"https://maps.google.com/maps?hl=en&tab=wl\">Maps</a> <a class=gb1 href=\"https://play.google.com/?hl=en&tab=w8\">Play</a> <a class=gb1 href=\"https://www.youtube.com/?gl=US&tab=w1\">YouTube</a> <a class=gb1 href=\"https://news.google.com/?tab=wn\">News</a> <a class=gb1 href=\"https://mail.google.com/mail/?tab=wm\">Gmail</a> <a class=gb1 href=\"https://drive.google.com/?tab=wo\">Drive</a> <a class=gb1 style=\"text-decoration:none\" href=\"https://www.google.com/intl/en/about/products?tab=wh\"><u>More</u> &raquo;</a></nobr></div><div id=guser width=100%><nobr><span id=gbn class=gbi></span><span id=gbf class=gbf></span><span id=gbe></span><a href=\"http://www.google.com/history/optout?hl=en\" class=gb4>Web History</a> | <a  href=\"/preferences?hl=en\" class=gb4>Settings</a> | <a target=_top id=gb_70 href=\"https://accounts.google.com/ServiceLogin?hl=en&passive=true&continue=https://www.google.com/&ec=GAZAAQ\" class=gb4>Sign in</a></nobr></div><div class=gbh style=left:0></div><div class=gbh style=right:0></div></div><center><br clear=\"all\" id=\"lgpd\"><div id=\"lga\"><img alt=\"Google\" height=\"92\" src=\"/images/branding/googlelogo/1x/googlelogo_white_background_color_272x92dp.png\" style=\"padding:28px 0 14px\" width=\"272\" id=\"hplogo\"><br><br></div><form action=\"/search\" name=\"f\"><table cellpadding=\"0\" cellspacing=\"0\"><tr valign=\"top\"><td width=\"25%\">&nbsp;</td><td align=\"center\" nowrap=\"\"><input name=\"ie\" value=\"ISO-8859-1\" type=\"hidden\"><input value=\"en\" name=\"hl\" type=\"hidden\"><input name=\"source\" type=\"hidden\" value=\"hp\"><input name=\"biw\" type=\"hidden\"><input name=\"bih\" type=\"hidden\"><div class=\"ds\" style=\"height:32px;margin:4px 0\"><input class=\"lst\" style=\"margin:0;padding:5px 8px 0 6px;vertical-align:top;color:#000\" autocomplete=\"off\" value=\"\" title=\"Google Search\" maxlength=\"2048\" name=\"q\" size=\"57\"></div><br style=\"line-height:0\"><span class=\"ds\"><span class=\"lsbb\"><input class=\"lsb\" value=\"Google Search\" name=\"btnG\" type=\"submit\"></span></span><span class=\"ds\"><span class=\"lsbb\"><input class=\"lsb\" id=\"tsuid1\" value=\"I'm Feeling Lucky\" name=\"btnI\" type=\"submit\"><script nonce=\"Pc0oqgoJq8Q4mXcKmGR4PQ==\">(function(){var id='tsuid1';document.getElementById(id).onclick = function(){if (this.form.q.value){this.checked = 1;if (this.form.iflsig)this.form.iflsig.disabled = false;}\n",
            "else top.location='/doodles/';};})();</script><input value=\"AINFCbYAAAAAYPWZsGO7DgZ0yzdDlUtgzJvR87pheJoX\" name=\"iflsig\" type=\"hidden\"></span></span></td><td class=\"fl sblc\" align=\"left\" nowrap=\"\" width=\"25%\"><a href=\"/advanced_search?hl=en&amp;authuser=0\">Advanced search</a></td></tr></table><input id=\"gbv\" name=\"gbv\" type=\"hidden\" value=\"1\"><script nonce=\"Pc0oqgoJq8Q4mXcKmGR4PQ==\">(function(){\n",
            "var a,b=\"1\";if(document&&document.getElementById)if(\"undefined\"!=typeof XMLHttpRequest)b=\"2\";else if(\"undefined\"!=typeof ActiveXObject){var c,d,e=[\"MSXML2.XMLHTTP.6.0\",\"MSXML2.XMLHTTP.3.0\",\"MSXML2.XMLHTTP\",\"Microsoft.XMLHTTP\"];for(c=0;d=e[c++];)try{new ActiveXObject(d),b=\"2\"}catch(h){}}a=b;if(\"2\"==a&&-1==location.search.indexOf(\"&gbv=2\")){var f=google.gbvu,g=document.getElementById(\"gbv\");g&&(g.value=a);f&&window.setTimeout(function(){location.href=f},0)};}).call(this);</script></form><div id=\"gac_scont\"></div><div style=\"font-size:83%;min-height:3.5em\"><br></div><span id=\"footer\"><div style=\"font-size:10pt\"><div style=\"margin:19px auto;text-align:center\" id=\"WqQANb\"><a href=\"/intl/en/ads/\">Advertising Programs</a><a href=\"/services/\">Business Solutions</a><a href=\"/intl/en/about.html\">About Google</a></div></div><p style=\"font-size:8pt;color:#70757a\">&copy; 2021 - <a href=\"/intl/en/policies/privacy/\">Privacy</a> - <a href=\"/intl/en/policies/terms/\">Terms</a></p></span></center><script nonce=\"Pc0oqgoJq8Q4mXcKmGR4PQ==\">(function(){window.google.cdo={height:757,width:1440};(function(){\n",
            "var a=window.innerWidth,b=window.innerHeight;if(!a||!b){var c=window.document,d=\"CSS1Compat\"==c.compatMode?c.documentElement:c.body;a=d.clientWidth;b=d.clientHeight}a&&b&&(a!=google.cdo.width||b!=google.cdo.height)&&google.log(\"\",\"\",\"/client_204?&atyp=i&biw=\"+a+\"&bih=\"+b+\"&ei=\"+google.kEI);}).call(this);})();</script> <script nonce=\"Pc0oqgoJq8Q4mXcKmGR4PQ==\">(function(){google.xjs={ck:'',cs:'',excm:[],pml:false};})();</script>  <script nonce=\"Pc0oqgoJq8Q4mXcKmGR4PQ==\">(function(){var u='/xjs/_/js/k\\x3dxjs.hp.en_US.u-X60WtIi-Y.O/m\\x3dsb_he,d/am\\x3dAHgCLA/d\\x3d1/ed\\x3d1/rs\\x3dACT90oHH4aIsupOvO3lhHWc-TIx4ptE7pg';\n",
            "var e=this||self,f=function(a){return a};var g;var l=function(a,b){this.g=b===h?a:\"\"};l.prototype.toString=function(){return this.g+\"\"};var h={};function m(){var a=u;google.lx=function(){n(a);google.lx=function(){}};google.bx||google.lx()}\n",
            "function n(a){google.timers&&google.timers.load&&google.tick&&google.tick(\"load\",\"xjsls\");var b=document;var c=\"SCRIPT\";\"application/xhtml+xml\"===b.contentType&&(c=c.toLowerCase());c=b.createElement(c);if(void 0===g){b=null;var k=e.trustedTypes;if(k&&k.createPolicy){try{b=k.createPolicy(\"goog#html\",{createHTML:f,createScript:f,createScriptURL:f})}catch(p){e.console&&e.console.error(p.message)}g=b}else g=b}a=(b=g)?b.createScriptURL(a):a;a=new l(a,h);c.src=a instanceof l&&a.constructor===l?a.g:\"type_error:TrustedResourceUrl\";var d;a=(c.ownerDocument&&c.ownerDocument.defaultView||window).document;(d=(a=null===(d=a.querySelector)||void 0===d?void 0:d.call(a,\"script[nonce]\"))?a.nonce||a.getAttribute(\"nonce\")||\"\":\"\")&&c.setAttribute(\"nonce\",d);document.body.appendChild(c);google.psa=!0};setTimeout(function(){m()},0);})();(function(){window.google.xjsu='/xjs/_/js/k\\x3dxjs.hp.en_US.u-X60WtIi-Y.O/m\\x3dsb_he,d/am\\x3dAHgCLA/d\\x3d1/ed\\x3d1/rs\\x3dACT90oHH4aIsupOvO3lhHWc-TIx4ptE7pg';})();function _DumpException(e){throw e;}\n",
            "function _F_installCss(c){}\n",
            "(function(){google.jl={attn:false,blt:'none',chnk:0,dw:false,emtn:0,end:0,ine:false,lls:'default',pdt:0,rep:0,snet:true,strt:0,ubm:false,uwp:true};})();(function(){var pmc='{\\x22d\\x22:{},\\x22sb_he\\x22:{\\x22agen\\x22:true,\\x22cgen\\x22:true,\\x22client\\x22:\\x22heirloom-hp\\x22,\\x22dh\\x22:true,\\x22dhqt\\x22:true,\\x22ds\\x22:\\x22\\x22,\\x22ffql\\x22:\\x22en\\x22,\\x22fl\\x22:true,\\x22host\\x22:\\x22google.com\\x22,\\x22isbh\\x22:28,\\x22jsonp\\x22:true,\\x22msgs\\x22:{\\x22cibl\\x22:\\x22Clear Search\\x22,\\x22dym\\x22:\\x22Did you mean:\\x22,\\x22lcky\\x22:\\x22I\\\\u0026#39;m Feeling Lucky\\x22,\\x22lml\\x22:\\x22Learn more\\x22,\\x22oskt\\x22:\\x22Input tools\\x22,\\x22psrc\\x22:\\x22This search was removed from your \\\\u003Ca href\\x3d\\\\\\x22/history\\\\\\x22\\\\u003EWeb History\\\\u003C/a\\\\u003E\\x22,\\x22psrl\\x22:\\x22Remove\\x22,\\x22sbit\\x22:\\x22Search by image\\x22,\\x22srch\\x22:\\x22Google Search\\x22},\\x22ovr\\x22:{},\\x22pq\\x22:\\x22\\x22,\\x22refpd\\x22:true,\\x22rfs\\x22:[],\\x22sbas\\x22:\\x220 3px 8px 0 rgba(0,0,0,0.2),0 0 0 1px rgba(0,0,0,0.08)\\x22,\\x22sbpl\\x22:16,\\x22sbpr\\x22:16,\\x22scd\\x22:10,\\x22stok\\x22:\\x22bz0uzvMVMpQTMh5yEX8vow4fx38\\x22,\\x22uhde\\x22:false}}';google.pmc=JSON.parse(pmc);})();</script>        </body></html>\n"
          ],
          "name": "stdout"
        }
      ]
    },
    {
      "cell_type": "markdown",
      "metadata": {
        "id": "Y26YCDEOKYFJ"
      },
      "source": [
        " C) WRITE A SIMPLE SCRIPT THAT SERVES A SIMPLE HTTPRESPONSE AND A SIMPLE HTML PAGE"
      ]
    },
    {
      "cell_type": "markdown",
      "metadata": {
        "id": "mML8xYiNjEt0"
      },
      "source": [
        "**AIM:**\n",
        "\n",
        "c) Write a simple script that serves a simple HTTPResponse and Simple HTML page.\n",
        "\n",
        "**DESCRIPTION**: \n",
        "\n",
        "HTTP Protocol\n",
        "\n",
        "The most important part of a web server is HTTP protocol.So now we will see what exactly this is –\n",
        "\n",
        "It stands for Hyper Text Transfer Protocol.\n",
        "\n",
        "It is an application layer protocol that allows web based applications to communicate and exchange data.\n",
        "\n",
        "The HTTP is the messenger of web.\n",
        "\n",
        "The computer that communicate via the HTTP must speak the HTTP protocol.\n",
        "\n",
        "It is a TCP/IP based protocol.\n",
        "\n",
        "It is used to deliver contents, for eg. images, audios, videos, documents etc.\n",
        "\n",
        "Using HTTP is the most convenient way to quickly and reliably move data on the web.\n",
        "\n",
        "HTML stands for hypertext markup language. It is the standard markup language for web pages that define the structure of the content. These elements are the building blocks of any website"
      ]
    },
    {
      "cell_type": "code",
      "metadata": {
        "colab": {
          "base_uri": "https://localhost:8080/"
        },
        "id": "A2PG_uuAKdYr",
        "outputId": "e58f8b7c-7f69-469a-df3e-6ebbbd75306e"
      },
      "source": [
        "from flask import Flask\n",
        "app = Flask(__name__)\n",
        "@app.route(\"/\")\n",
        "def home():\n",
        "    return\"Hello this is simple<h1>HELLO<h1>\"\n",
        "if __name__==\"__main__\":\n",
        "    app.run()"
      ],
      "execution_count": null,
      "outputs": [
        {
          "output_type": "stream",
          "text": [
            " * Serving Flask app \"__main__\" (lazy loading)\n",
            " * Environment: production\n",
            "\u001b[31m   WARNING: This is a development server. Do not use it in a production deployment.\u001b[0m\n",
            "\u001b[2m   Use a production WSGI server instead.\u001b[0m\n",
            " * Debug mode: off\n"
          ],
          "name": "stdout"
        },
        {
          "output_type": "stream",
          "text": [
            " * Running on http://127.0.0.1:5000/ (Press CTRL+C to quit)\n"
          ],
          "name": "stderr"
        }
      ]
    },
    {
      "cell_type": "markdown",
      "metadata": {
        "id": "qv2kHiIRKsAW"
      },
      "source": [
        "by copying the link provided and opening the above link we will get a html page saying Hello this is simple"
      ]
    },
    {
      "cell_type": "markdown",
      "metadata": {
        "id": "BgeoSI9mhpVU"
      },
      "source": [
        " \n",
        " \n",
        "**EXERCISE-13**\n",
        " \n",
        " \n",
        "A) CLASS VARIABLES AND INSTANT VARIABLE\n",
        "AND ILLUSTRATION OF SELF-VARIABLE"
      ]
    },
    {
      "cell_type": "markdown",
      "metadata": {
        "id": "HHNM8WHZjQx5"
      },
      "source": [
        "**AIM:**\n",
        "\n",
        "a)class variables and instance variable and illustration of the self -variable\n",
        "\n",
        "**DESCRIPTION:**\n",
        "\n",
        "Variables are named storage location. In python variables are not defined by its type instead it will be automatically determined by the value assigned to it. To determine the type of a variable a function called type () is used.\n",
        "\n",
        "class variableis shared by all object instances of a class. ... They are not defined inside any methods of a class. Because a class variable is shared by instances of a class, the Python class owns the variable. As a result, all instances of the class will be able to access that variable\n",
        "\n",
        "Instance variables are owned by instances of the class. This means that for each object or instance of a class, the instance variables are different. ... Instance variables, owned by objects of the class, allow for each object or instance to have different values assigned to those variables\n",
        "\n",
        "self variable is used to bind the instance of the class to the instance method. We have to explicitly declare it as the first method argument to access the instance variables and methods. This variable is used only with the instance methods.\n",
        "\n"
      ]
    },
    {
      "cell_type": "code",
      "metadata": {
        "colab": {
          "base_uri": "https://localhost:8080/"
        },
        "id": "KqoF06rMhpxi",
        "outputId": "63d20305-377a-46c1-8bf6-223c49f18ffb"
      },
      "source": [
        "class Robot:\n",
        "   what=\"Machine\"\n",
        "   name=\"Bannu\"\n",
        "   version=1.0\n",
        "   speed=\"1THz\"\n",
        "   memory=\"1ZB\"\n",
        "   \n",
        "   def update( ):\n",
        "     robj.version=2.0\n",
        "     robj.speed=\"2THz\"\n",
        "     robj.memory=\"1ZB\"\n",
        " \n",
        " \n",
        "   def disp( ):\n",
        "     print(\"Myself is a\",robj.what)\n",
        "     print(\"Myname is a\",robj.name)\n",
        "     print(\"Version:\",robj.version)\n",
        "     print(\"Speed:\",robj.speed)\n",
        "     print(\"Memory:\",robj.memory)\n",
        " \n",
        "robj=Robot\n",
        "robj.disp()\n",
        "  \n",
        "print(\"---------Update---------\")\n",
        "robj.update( )\n",
        "robj.disp()"
      ],
      "execution_count": null,
      "outputs": [
        {
          "output_type": "stream",
          "text": [
            "Myself is a Machine\n",
            "Myname is a Bannu\n",
            "Version: 1.0\n",
            "Speed: 1THz\n",
            "Memory: 1ZB\n",
            "---------Update---------\n",
            "Myself is a Machine\n",
            "Myname is a Bannu\n",
            "Version: 2.0\n",
            "Speed: 2THz\n",
            "Memory: 1ZB\n"
          ],
          "name": "stdout"
        }
      ]
    },
    {
      "cell_type": "code",
      "metadata": {
        "colab": {
          "base_uri": "https://localhost:8080/"
        },
        "id": "rl0pbrDSYIdr",
        "outputId": "26b4b475-8bfb-441f-92c7-0147ef29242d"
      },
      "source": [
        "#ATM Machine\n",
        "class ATM:\n",
        "   balance=0\n",
        "   \n",
        "   def enquirie(self):\n",
        "     print(\"Balance:\",self.balance)\n",
        "  \n",
        "   def deposit(self):\n",
        "     amount=int(input(\"Enter the Deposit Amount:\"))\n",
        "     self.balance+=amount\n",
        "     self.enquirie()\n",
        "   \n",
        "   def withdraw(self):\n",
        "     amount=int(input(\"Enter the withdraw Amount:\"))\n",
        "     if self.balance<amount:\n",
        "         print(\"Insufficient Balance....!\")\n",
        "     else:\n",
        "         self.balance-=amount\n",
        "         self.enquirie()\n",
        " \n",
        "aobj=ATM()\n",
        "while(True):\n",
        "  print(\"*Menu*\")\n",
        "  print(\"1.Deposit\")\n",
        "  print(\"2.Withdraw\")\n",
        "  print(\"3.Balance\")\n",
        "  print(\"0.Exit\")\n",
        "  ch=int(input(\"Enter Your choice.\"))\n",
        "  if ch==0:\n",
        "     break\n",
        "  elif ch==1:\n",
        "     aobj.deposit()\n",
        "  elif ch==2:\n",
        "     aobj.withdraw()\n",
        "  elif ch==3:\n",
        "     aobj.enquirie()\n",
        "  else:\n",
        "     print(\"Invalid choice:\")\n",
        "     pass"
      ],
      "execution_count": null,
      "outputs": [
        {
          "output_type": "stream",
          "text": [
            "*Menu*\n",
            "1.Deposit\n",
            "2.Withdraw\n",
            "3.Balance\n",
            "0.Exit\n",
            "Enter Your choice.1\n",
            "Enter the Deposit Amount:1000\n",
            "Balance: 1000\n",
            "*Menu*\n",
            "1.Deposit\n",
            "2.Withdraw\n",
            "3.Balance\n",
            "0.Exit\n",
            "Enter Your choice.2\n",
            "Enter the withdraw Amount:500\n",
            "Balance: 500\n",
            "*Menu*\n",
            "1.Deposit\n",
            "2.Withdraw\n",
            "3.Balance\n",
            "0.Exit\n",
            "Enter Your choice.2\n",
            "Enter the withdraw Amount:256\n",
            "Balance: 244\n",
            "*Menu*\n",
            "1.Deposit\n",
            "2.Withdraw\n",
            "3.Balance\n",
            "0.Exit\n",
            "Enter Your choice.3\n",
            "Balance: 244\n",
            "*Menu*\n",
            "1.Deposit\n",
            "2.Withdraw\n",
            "3.Balance\n",
            "0.Exit\n",
            "Enter Your choice.0\n"
          ],
          "name": "stdout"
        }
      ]
    },
    {
      "cell_type": "markdown",
      "metadata": {
        "id": "VYMyip9CUF7L"
      },
      "source": [
        "**EXERCISE - 14** :**GUI, GRAPHICS**_______________________________________\n",
        "\n",
        "A. WRITE A GUI FOR AN EXPRESSION CALCULATOR USING TK"
      ]
    },
    {
      "cell_type": "markdown",
      "metadata": {
        "id": "dmRAvBU_jwmr"
      },
      "source": [
        "**AIM**:\n",
        "\n",
        "a. Write a GUI for an Expression Calculator using tk\n",
        "\n",
        "**DESCRIPTION** \n",
        "\n",
        "Tkinter is a Python package which comes with many functions and methods that can be used to create an application. In order to create a tkinter application, we generally create an instance of tkinter frame, i.e., Tk(). It helps to display the root window and manages all the other components of the tkinter application. We can initialize the tkinter instance by assigning the variable to it."
      ]
    },
    {
      "cell_type": "code",
      "metadata": {
        "id": "1GURtiiXUJqe"
      },
      "source": [
        "#14A.\n",
        "from tkinter import *\n",
        " \n",
        "win = Tk() # to create a basic window\n",
        "win.geometry(\"312x324\")  #for the size of the window \n",
        "win.resizable(0, 0)  # to prevent from resizing the window\n",
        "win.title(\"Calculator\")\n",
        " \n",
        "# 'btn_click' Function continuously updates the \n",
        "# input field whenever you enters a number\n",
        " \n",
        "def btn_click(item):\n",
        "    global expression\n",
        "    expression = expression + str(item)\n",
        "    input_text.set(expression)\n",
        " \n",
        "# 'bt_clear' function : used to clear the input field\n",
        " \n",
        "def bt_clear(): \n",
        "    global expression \n",
        "    expression = \"\"\n",
        "    input_text.set(\"\")\n",
        " \n",
        "# 'bt_equal':calculates the expression present in input field\n",
        " \n",
        "def bt_equal():\n",
        "    global expression\n",
        "    result = str(eval(expression)) # 'eval':This function is used to evaluates the string expression directly\n",
        "    input_text.set(result)\n",
        "    expression = \"\"\n",
        " \n",
        "expression = \"\"\n",
        " \n",
        "# 'StringVar()' :used to get the instance of input field\n",
        " \n",
        "input_text = StringVar()\n",
        " \n",
        "# creating a frame for the input field\n",
        " \n",
        "input_frame = Frame(win, width=312, height=50, bd=0, highlightbackground=\"black\", highlightcolor=\"black\", highlightthickness=2)\n",
        " \n",
        "input_frame.pack(side=TOP)\n",
        " \n",
        "#create a input field inside the 'Frame'\n",
        " \n",
        "input_field = Entry(input_frame, font=('arial', 18, 'bold'), textvariable=input_text, width=50, bg=\"#eee\", bd=0, justify=RIGHT)\n",
        " \n",
        "input_field.grid(row=0, column=0)\n",
        " \n",
        "input_field.pack(ipady=10)\n",
        "# 'ipady' is internal padding to increase the height of input field\n",
        " \n",
        "#creating another 'Frame' for the button below the 'input_frame'\n",
        " \n",
        "btns_frame = Frame(win, width=312, height=272.5, bg=\"grey\")\n",
        " \n",
        "btns_frame.pack()\n",
        " \n",
        "# first row\n",
        " \n",
        "clear = Button(btns_frame, text = \"C\", fg = \"black\", width = 32, height = 3, bd = 0, bg = \"#eee\", cursor = \"hand2\", command = lambda: bt_clear()).grid(row = 0, column = 0, columnspan = 3, padx = 1, pady = 1)\n",
        " \n",
        "divide = Button(btns_frame, text = \"/\", fg = \"black\", width = 10, height = 3, bd = 0, bg = \"#eee\", cursor = \"hand2\", command = lambda: btn_click(\"/\")).grid(row = 0, column = 3, padx = 1, pady = 1)\n",
        " \n",
        "# second row\n",
        " \n",
        "seven = Button(btns_frame, text = \"7\", fg = \"black\", width = 10, height = 3, bd = 0, bg = \"#fff\", cursor = \"hand2\", command = lambda: btn_click(7)).grid(row = 1, column = 0, padx = 1, pady = 1)\n",
        " \n",
        "eight = Button(btns_frame, text = \"8\", fg = \"black\", width = 10, height = 3, bd = 0, bg = \"#fff\", cursor = \"hand2\", command = lambda: btn_click(8)).grid(row = 1, column = 1, padx = 1, pady = 1)\n",
        " \n",
        "nine = Button(btns_frame, text = \"9\", fg = \"black\", width = 10, height = 3, bd = 0, bg = \"#fff\", cursor = \"hand2\", command = lambda: btn_click(9)).grid(row = 1, column = 2, padx = 1, pady = 1)\n",
        " \n",
        "multiply = Button(btns_frame, text = \"\", fg = \"black\", width = 10, height = 3, bd = 0, bg = \"#eee\", cursor = \"hand2\", command = lambda: btn_click(\"\")).grid(row = 1, column = 3, padx = 1, pady = 1)\n",
        " \n",
        "# third row\n",
        " \n",
        "four = Button(btns_frame, text = \"4\", fg = \"black\", width = 10, height = 3, bd = 0, bg = \"#fff\", cursor = \"hand2\", command = lambda: btn_click(4)).grid(row = 2, column = 0, padx = 1, pady = 1)\n",
        " \n",
        "five = Button(btns_frame, text = \"5\", fg = \"black\", width = 10, height = 3, bd = 0, bg = \"#fff\", cursor = \"hand2\", command = lambda: btn_click(5)).grid(row = 2, column = 1, padx = 1, pady = 1)\n",
        " \n",
        "six = Button(btns_frame, text = \"6\", fg = \"black\", width = 10, height = 3, bd = 0, bg = \"#fff\", cursor = \"hand2\", command = lambda: btn_click(6)).grid(row = 2, column = 2, padx = 1, pady = 1)\n",
        " \n",
        "minus = Button(btns_frame, text = \"-\", fg = \"black\", width = 10, height = 3, bd = 0, bg = \"#eee\", cursor = \"hand2\", command = lambda: btn_click(\"-\")).grid(row = 2, column = 3, padx = 1, pady = 1)\n",
        " \n",
        "# fourth row\n",
        " \n",
        "one = Button(btns_frame, text = \"1\", fg = \"black\", width = 10, height = 3, bd = 0, bg = \"#fff\", cursor = \"hand2\", command = lambda: btn_click(1)).grid(row = 3, column = 0, padx = 1, pady = 1)\n",
        " \n",
        "two = Button(btns_frame, text = \"2\", fg = \"black\", width = 10, height = 3, bd = 0, bg = \"#fff\", cursor = \"hand2\", command = lambda: btn_click(2)).grid(row = 3, column = 1, padx = 1, pady = 1)\n",
        " \n",
        "three = Button(btns_frame, text = \"3\", fg = \"black\", width = 10, height = 3, bd = 0, bg = \"#fff\", cursor = \"hand2\", command = lambda: btn_click(3)).grid(row = 3, column = 2, padx = 1, pady = 1)\n",
        " \n",
        "plus = Button(btns_frame, text = \"+\", fg = \"black\", width = 10, height = 3, bd = 0, bg = \"#eee\", cursor = \"hand2\", command = lambda: btn_click(\"+\")).grid(row = 3, column = 3, padx = 1, pady = 1)\n",
        " \n",
        "# fifth row\n",
        " \n",
        "zero = Button(btns_frame, text = \"0\", fg = \"black\", width = 21, height = 3, bd = 0, bg = \"#fff\", cursor = \"hand2\", command = lambda: btn_click(0)).grid(row = 4, column = 0, columnspan = 2, padx = 1, pady = 1)\n",
        " \n",
        "point = Button(btns_frame, text = \".\", fg = \"black\", width = 10, height = 3, bd = 0, bg = \"#eee\", cursor = \"hand2\", command = lambda: btn_click(\".\")).grid(row = 4, column = 2, padx = 1, pady = 1)\n",
        " \n",
        "equals = Button(btns_frame, text = \"=\", fg = \"black\", width = 10, height = 3, bd = 0, bg = \"#eee\", cursor = \"hand2\", command = lambda: bt_equal()).grid(row = 4, column = 3, padx = 1, pady = 1)\n",
        " \n",
        "win.mainloop()"
      ],
      "execution_count": null,
      "outputs": []
    },
    {
      "cell_type": "markdown",
      "metadata": {
        "id": "vqEctRoRa3Vr"
      },
      "source": [
        "B) WRITE A TEST-CASE TO CHECK THE FUNCTION REVERSE STRING WHICH RETURNS THE REVERSED STRING"
      ]
    },
    {
      "cell_type": "markdown",
      "metadata": {
        "id": "i0dAxE-8j665"
      },
      "source": [
        "**AIM**:\n",
        "To Write a program to implement the following figures using turtle\n",
        "\n",
        "**DESCRIPTION**:\n",
        "\n",
        "The turtle module is an extended reimplementation of the same-named module from the Python standard distribution up to version Python 2.5.\n",
        "\n",
        "It tries to keep the merits of the old turtle module and to be (nearly) 100% compatible with it. This means in the first place to enable the learning programmer to use all the commands, classes and methods interactively when using the module from within IDLE run with the -n switch.\n",
        "\n",
        "The turtle module provides turtle graphics primitives, in both object-oriented and procedure-oriented ways. Because it uses tkinter for the underlying graphics, it needs a version of Python installed with Tk support."
      ]
    },
    {
      "cell_type": "code",
      "metadata": {
        "id": "70n7Xd9sa6T5"
      },
      "source": [
        "#14B FIGURE1.\n",
        "import turtle\n",
        "c=[\"red\",\"green\",\"blue\"]\n",
        "i=0\n",
        "turtle.pensize(5)\n",
        " \n",
        "for angle in range(0,360,30):\n",
        "    if i>2:\n",
        "        i=0\n",
        "    turtle.color(c[i])\n",
        "    turtle.seth(angle)\n",
        "    turtle.circle(50)\n",
        "    i+=1"
      ],
      "execution_count": null,
      "outputs": []
    },
    {
      "cell_type": "code",
      "metadata": {
        "id": "YF9mcxPQbBHg"
      },
      "source": [
        "#14B FIGURE2.\n",
        "import turtle\n",
        "turtle.pensize(1)\n",
        " \n",
        "for i in range(36):\n",
        "    for j in range(4):\n",
        "        turtle.forward(70)\n",
        "        turtle.left(90)\n",
        "    turtle.left(10)"
      ],
      "execution_count": null,
      "outputs": []
    },
    {
      "cell_type": "markdown",
      "metadata": {
        "id": "xGdtCmwBbYO-"
      },
      "source": [
        "**EXERCISE  15**- **TESTING**\n",
        "________________________________________\n",
        "A) WRITE A TEST-CASE TO CHECK THE FUNCTION EVEN NUMBERS WHICH RETURN TRUE ON PASSING A LIST OF ALL EVEN NUMBERS"
      ]
    },
    {
      "cell_type": "markdown",
      "metadata": {
        "id": "4u-K_UUGkZgZ"
      },
      "source": [
        "**AIM:**\n",
        "\n",
        "a) Write a test-case to check the function even numbers which return True on passing a list of all even numbers\n",
        "\n",
        "**DESCRIPTION**:\n",
        "\n",
        "TestCase is used to create test cases by subclassing it. The last block of the code at the bottom allows us to run all the tests just by running the file. Basic terms used in the code : assertEqual() – This statement is used to check if the result obtained is equal to the expected result\n",
        "\n",
        "test case:\n",
        "\n",
        "A test case is a set of conditions which is used to determine whether a system under test works correctly."
      ]
    },
    {
      "cell_type": "code",
      "metadata": {
        "colab": {
          "base_uri": "https://localhost:8080/"
        },
        "id": "BOFfIbyVbgW7",
        "outputId": "750be964-d999-47ba-8c49-9ee5d6ebc8d7"
      },
      "source": [
        "#15A)\n",
        "def evnNo(num):\n",
        "    stat=True\n",
        " \n",
        "    for i in num:\n",
        "        if i%2 ==1:\n",
        "            stat=False\n",
        "            break\n",
        "    return stat\n",
        "        \n",
        "numbers=[]\n",
        "for i in range(0,2):\n",
        "    numbers.append(int(input(\"Enter a value\")))\n",
        "print(evnNo(numbers))"
      ],
      "execution_count": null,
      "outputs": [
        {
          "output_type": "stream",
          "text": [
            "Enter a value2\n",
            "Enter a value6\n",
            "True\n"
          ],
          "name": "stdout"
        }
      ]
    },
    {
      "cell_type": "markdown",
      "metadata": {
        "id": "s5FlKOUJb0SG"
      },
      "source": [
        " B) WRITE A TEST-CASE TO CHECK THE FUNCTION REVERSE STRING WHICH RETURNS THE REVERSED STRING"
      ]
    },
    {
      "cell_type": "markdown",
      "metadata": {
        "id": "8PKk1Vvckohz"
      },
      "source": [
        "**AIM:**\n",
        "\n",
        "b) Write a test-case to check the function reverse string which returns the reversed string\n",
        "\n",
        "**DESCRIPTION:**\n",
        "\n",
        "Python string library does’nt support the in-built “reverse()” as done by other python containers like list, hence knowing other methods to reverse string can prove to be useful. This article discusses several ways to achieve it.\n",
        "\n",
        "The reversed() returns the reversed iterator of the given string and then its elements are joined empty string separated using join(). And reversed order string is formed."
      ]
    },
    {
      "cell_type": "code",
      "metadata": {
        "colab": {
          "base_uri": "https://localhost:8080/"
        },
        "id": "eBaf5BMZb6rh",
        "outputId": "faaa96a1-4dc1-4d7d-cbe6-445ff501e984"
      },
      "source": [
        "#15B.\n",
        "def rev_str(st):\n",
        "  temp=\"\"\n",
        "  for i in range(len(st)-1,-1,-1):\n",
        "     temp+=st[i]\n",
        "  return temp\n",
        "st=\"Swarnandra \"\n",
        "print(\"given string is\",st)\n",
        "print(\"reverse string is:\",rev_str(st))"
      ],
      "execution_count": null,
      "outputs": [
        {
          "output_type": "stream",
          "text": [
            "given string is Swarnandra \n",
            "reverse string is:  ardnanrawS\n"
          ],
          "name": "stdout"
        }
      ]
    },
    {
      "cell_type": "markdown",
      "metadata": {
        "id": "sCLNbyoScGYS"
      },
      "source": [
        "**EXERCISE-16**:**ADVANCED**\n",
        " \n",
        "A) BUILD ANY ONE CLASSICAL DATA STRUCTURE."
      ]
    },
    {
      "cell_type": "markdown",
      "metadata": {
        "id": "JW3u9uG_kzY4"
      },
      "source": [
        "**AIM**:\n",
        "\n",
        "a) Build any one classical data structure.\n",
        "\n",
        "**DESCRIPTION**:\n",
        "\n",
        "What is a Data Structure Organizing, managing and storing data is important as it enables easier access and efficient modifications. Data Structures allows you to organize your data in such a way that enables you to store collections of data, relate them and perform operations on them accordingly.\n",
        "\n",
        "Stack Stacks are linear Data Structures which are based on the principle of Last-In-First-Out (LIFO) where data which is entered last will be the first to get accessed. It is built using the array structure and has operations namely, pushing (adding) elements, popping (deleting) elements and accessing elements only from one point in the stack called as the TOP. This TOP is the pointer to the current position of the stack. Stacks are prominently used in applications such as Recursive Programming, reversing words, undo mechanisms in word editors and so forth."
      ]
    },
    {
      "cell_type": "code",
      "metadata": {
        "colab": {
          "base_uri": "https://localhost:8080/",
          "height": 846
        },
        "id": "_td7hJumcVss",
        "outputId": "32dc29ee-f8b3-4b5f-ee29-83eefd01d216"
      },
      "source": [
        "#16A.\n",
        "import sys\n",
        "a=[]\n",
        " \n",
        "while True:\n",
        "  print (\"\\nl.PUSH 2.POP 3.DISPLAY 4.EXIT\")\n",
        "  ch=int(input(\"Enter Your Choice: \"))\n",
        "  if ch==1:\n",
        "   ele=int(input(\"Enter element: \"))\n",
        "   a.append(ele)\n",
        "   print(\"Inserted\")\n",
        "  elif ch==2:\n",
        "   if len(a)==0:\n",
        "     print (\"\\t STACK IS EMPTY\")\n",
        "   else:\n",
        "     print (\"Deleted element is: \",a[len(a)-1])\n",
        "     a.remove(a[len(a)-1])\n",
        "  elif ch==3:\n",
        "   if len(a)==0:\n",
        "     print (\"\\t STACK IS EMPTY\")\n",
        "   else:\n",
        "    print (\"The Elements in Stack is: \")\n",
        "    for i in reversed(a):\n",
        "       print(i)\n",
        "  elif ch==4:\n",
        "    sys.exit()\n",
        "  else:\n",
        "   print (\"\\tINVALID CHOICE\")"
      ],
      "execution_count": null,
      "outputs": [
        {
          "output_type": "stream",
          "text": [
            "\n",
            "l.PUSH 2.POP 3.DISPLAY 4.EXIT\n",
            "Enter Your Choice: 1\n",
            "Enter element: 3\n",
            "Inserted\n",
            "\n",
            "l.PUSH 2.POP 3.DISPLAY 4.EXIT\n",
            "Enter Your Choice: 1\n",
            "Enter element: 5\n",
            "Inserted\n",
            "\n",
            "l.PUSH 2.POP 3.DISPLAY 4.EXIT\n",
            "Enter Your Choice: 1\n",
            "Enter element: 9\n",
            "Inserted\n",
            "\n",
            "l.PUSH 2.POP 3.DISPLAY 4.EXIT\n",
            "Enter Your Choice: 3\n",
            "The Elements in Stack is: \n",
            "9\n",
            "5\n",
            "3\n",
            "\n",
            "l.PUSH 2.POP 3.DISPLAY 4.EXIT\n",
            "Enter Your Choice: 2\n",
            "Deleted element is:  9\n",
            "\n",
            "l.PUSH 2.POP 3.DISPLAY 4.EXIT\n",
            "Enter Your Choice: 9\n",
            "\tINVALID CHOICE\n",
            "\n",
            "l.PUSH 2.POP 3.DISPLAY 4.EXIT\n",
            "Enter Your Choice: 3\n",
            "The Elements in Stack is: \n",
            "5\n",
            "3\n",
            "\n",
            "l.PUSH 2.POP 3.DISPLAY 4.EXIT\n",
            "Enter Your Choice: 4\n"
          ],
          "name": "stdout"
        },
        {
          "output_type": "error",
          "ename": "SystemExit",
          "evalue": "ignored",
          "traceback": [
            "An exception has occurred, use %tb to see the full traceback.\n",
            "\u001b[0;31mSystemExit\u001b[0m\n"
          ]
        },
        {
          "output_type": "stream",
          "text": [
            "/usr/local/lib/python3.7/dist-packages/IPython/core/interactiveshell.py:2890: UserWarning: To exit: use 'exit', 'quit', or Ctrl-D.\n",
            "  warn(\"To exit: use 'exit', 'quit', or Ctrl-D.\", stacklevel=1)\n"
          ],
          "name": "stderr"
        }
      ]
    },
    {
      "cell_type": "markdown",
      "metadata": {
        "id": "fqzl0kl3dCqM"
      },
      "source": [
        " B) WRITE A PROGRAM TO SOLVE KNAPSACK PROBLEM."
      ]
    },
    {
      "cell_type": "markdown",
      "metadata": {
        "id": "YvzkH9sKlEMi"
      },
      "source": [
        "**AIM**:\n",
        "\n",
        "b) Write a program to solve knapsack problem\n",
        "\n",
        "**DESCRIPTION**:\n",
        "\n",
        "Python Program for 0-1 Knapsack Problem\n",
        "\n",
        "Problem statement − We are given weights and values of n items, we need to put these items in a bag of capacity W up to the maximum capacity w. We need to carry a maximum number of items and return its value.\n",
        "\n",
        "Brute-force approach.\n",
        "\n",
        "dynamic approach."
      ]
    },
    {
      "cell_type": "code",
      "metadata": {
        "colab": {
          "base_uri": "https://localhost:8080/"
        },
        "id": "pk9TtYAxdJpm",
        "outputId": "0f1f43f0-b53c-441a-8dde-7b4b61167a64"
      },
      "source": [
        "#16B.\n",
        "def knapSack(W, wt, val, n):\n",
        "   K= [[0 for x in range(W+1)] for x in range(n+1)]\n",
        "   for i in range(n+1):\n",
        "     for w in range(W+1):\n",
        "       if i==0 or w==0:\n",
        "          K[i][w] = 0\n",
        "       elif wt[i-1]<=w:\n",
        "          K[i][w]= max(val[i-1]+K[i-1][w-wt[i-1]],K[i-1][w])\n",
        "       else:\n",
        "          K[i][w] = K[i-1][w]\n",
        "   return K[n][W]\n",
        "val = [5, 3, 4]\n",
        "wt = [3, 2, 1]\n",
        "W = 5\n",
        "n= len(val)\n",
        "print(\"Maximum value knapsack of capacity W: \", knapSack(W, wt,val,n))"
      ],
      "execution_count": null,
      "outputs": [
        {
          "output_type": "stream",
          "text": [
            "Maximum value knapsack of capacity W:  9\n"
          ],
          "name": "stdout"
        }
      ]
    },
    {
      "cell_type": "markdown",
      "metadata": {
        "id": "dMMYzwSkdSmh"
      },
      "source": [
        " **EXERCISE** **17** **&** **18**-**DATA** **ANALYSIS** \n",
        " \n",
        "DATA ANALYSIS OR MANIPULATION USING THE FOLLOWING PACKAGES\n",
        " \n",
        "A) NUMPY B) PANDAS\n",
        " \n",
        "A) SCIPY B) MATPLOTLIB"
      ]
    },
    {
      "cell_type": "markdown",
      "metadata": {
        "id": "NxXS80uWlrYB"
      },
      "source": [
        "**AIM:**\n",
        "\n",
        "Data analysis or manipulation using the following packages a) Numpy b) Pandas a) Scipy b) matplotlib **DESCRIPTION**:\n",
        "\n",
        "Learn how to analyze data using Python. ... It includes following parts: Data Analysis libraries: will learn to use Pandas, Numpy and Scipy libraries to work with a sample dataset. We will introduce you to pandas, an open-source library, and we will use it to load, manipulate, analyze, and visualize cool datasets.\n",
        "\n",
        "SciPy is a free and open-source Python library used for scientific computing and technical computing. It is a collection of mathematical algorithms and convenience functions built on the NumPy extension of Python\n",
        "\n",
        "NumPy is the fundamental package for scientific computing in Python. ... NumPy arrays facilitate advanced mathematical and other types of operations on large numbers of data.\n",
        "\n",
        "Matplotlib is a plotting library for the Python programming language and its numerical mathematics extension NumPy. It provides an object-oriented API for embedding plots into applications using general-purpose GUI toolkits like Tkinter, wxPython, Qt, or GTK\n",
        "\n",
        "Pandas is an open source Python package that is most widely used for data science/data analysis and machine learning tasks. It is built on top of another package named Numpy, which provides support for multi-dimensional arrays.\n",
        "\n",
        "Scikit-learn is probably the most useful library for machine learning in Python. The sklearn library contains a lot of efficient tools for machine learning and statistical modeling including classification, regression, clustering and dimensionality reduction.\n",
        "\n",
        "Seaborn is a library in Python predominantly used for making statistical graphics. Seaborn is a data visualization library built on top of matplotlib and closely integrated with pandas data structures in Python"
      ]
    },
    {
      "cell_type": "code",
      "metadata": {
        "colab": {
          "base_uri": "https://localhost:8080/"
        },
        "id": "ycFHxvnfda76",
        "outputId": "ef1b5d94-6eb5-42fb-91e1-1974d9e8e421"
      },
      "source": [
        "#17 & 18.\n",
        " \n",
        "#Python version\n",
        "import sys\n",
        "print('Python: {}'.format(sys.version))\n",
        " \n",
        "#scipy\n",
        "import scipy\n",
        "print('scipy: {}'.format(scipy.__version__))\n",
        " \n",
        "# numpy\n",
        "import numpy\n",
        "print( 'numpy: {}'.format(numpy.__version__))\n",
        " \n",
        "# matplotlib\n",
        "import matplotlib\n",
        "print('matplotlib: {}'.format(matplotlib.__version__))\n",
        " \n",
        "# pandas\n",
        "import pandas\n",
        "print('pandas: {}'.format(pandas.__version__))\n",
        " \n",
        "#scikit-learn\n",
        "import sklearn\n",
        "print('sklearn: {}'.format(sklearn.__version__))\n",
        "import seaborn\n",
        "print('seaborn: {}'.format(seaborn.__version__))\n",
        "import urllib\n",
        "print('urlib: {}'.format(urllib.__name__))\n",
        "import csv\n",
        "print('csv: {}'.format(csv.__version__))"
      ],
      "execution_count": null,
      "outputs": [
        {
          "output_type": "stream",
          "text": [
            "Python: 3.7.11 (default, Jul  3 2021, 18:01:19) \n",
            "[GCC 7.5.0]\n",
            "scipy: 1.4.1\n",
            "numpy: 1.19.5\n",
            "matplotlib: 3.2.2\n",
            "pandas: 1.1.5\n",
            "sklearn: 0.22.2.post1\n",
            "seaborn: 0.11.1\n",
            "urlib: urllib\n",
            "csv: 1.0\n"
          ],
          "name": "stdout"
        }
      ]
    }
  ]
}